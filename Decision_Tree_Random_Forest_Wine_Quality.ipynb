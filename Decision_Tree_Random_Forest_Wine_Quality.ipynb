{
 "cells": [
  {
   "cell_type": "code",
   "execution_count": 1,
   "metadata": {},
   "outputs": [],
   "source": [
    "import numpy as np\n",
    "import pandas as pd\n",
    "import matplotlib.pyplot as plt\n",
    "%matplotlib inline\n",
    "import seaborn as sns\n",
    "from sklearn.model_selection import train_test_split\n",
    "from sklearn.preprocessing import StandardScaler\n",
    "from sklearn.preprocessing import PolynomialFeatures\n",
    "from sklearn.linear_model import LogisticRegression\n",
    "from sklearn.tree import DecisionTreeClassifier\n",
    "from sklearn.ensemble import RandomForestClassifier\n",
    "from sklearn.metrics import accuracy_score"
   ]
  },
  {
   "cell_type": "code",
   "execution_count": 2,
   "metadata": {},
   "outputs": [
    {
     "data": {
      "text/html": [
       "<div>\n",
       "<style scoped>\n",
       "    .dataframe tbody tr th:only-of-type {\n",
       "        vertical-align: middle;\n",
       "    }\n",
       "\n",
       "    .dataframe tbody tr th {\n",
       "        vertical-align: top;\n",
       "    }\n",
       "\n",
       "    .dataframe thead th {\n",
       "        text-align: right;\n",
       "    }\n",
       "</style>\n",
       "<table border=\"1\" class=\"dataframe\">\n",
       "  <thead>\n",
       "    <tr style=\"text-align: right;\">\n",
       "      <th></th>\n",
       "      <th>fixed acidity</th>\n",
       "      <th>volatile acidity</th>\n",
       "      <th>citric acid</th>\n",
       "      <th>residual sugar</th>\n",
       "      <th>chlorides</th>\n",
       "      <th>free sulfur dioxide</th>\n",
       "      <th>total sulfur dioxide</th>\n",
       "      <th>density</th>\n",
       "      <th>pH</th>\n",
       "      <th>sulphates</th>\n",
       "      <th>alcohol</th>\n",
       "      <th>quality</th>\n",
       "    </tr>\n",
       "  </thead>\n",
       "  <tbody>\n",
       "    <tr>\n",
       "      <th>0</th>\n",
       "      <td>7.4</td>\n",
       "      <td>0.70</td>\n",
       "      <td>0.00</td>\n",
       "      <td>1.9</td>\n",
       "      <td>0.076</td>\n",
       "      <td>11.0</td>\n",
       "      <td>34.0</td>\n",
       "      <td>0.9978</td>\n",
       "      <td>3.51</td>\n",
       "      <td>0.56</td>\n",
       "      <td>9.4</td>\n",
       "      <td>5</td>\n",
       "    </tr>\n",
       "    <tr>\n",
       "      <th>1</th>\n",
       "      <td>7.8</td>\n",
       "      <td>0.88</td>\n",
       "      <td>0.00</td>\n",
       "      <td>2.6</td>\n",
       "      <td>0.098</td>\n",
       "      <td>25.0</td>\n",
       "      <td>67.0</td>\n",
       "      <td>0.9968</td>\n",
       "      <td>3.20</td>\n",
       "      <td>0.68</td>\n",
       "      <td>9.8</td>\n",
       "      <td>5</td>\n",
       "    </tr>\n",
       "    <tr>\n",
       "      <th>2</th>\n",
       "      <td>7.8</td>\n",
       "      <td>0.76</td>\n",
       "      <td>0.04</td>\n",
       "      <td>2.3</td>\n",
       "      <td>0.092</td>\n",
       "      <td>15.0</td>\n",
       "      <td>54.0</td>\n",
       "      <td>0.9970</td>\n",
       "      <td>3.26</td>\n",
       "      <td>0.65</td>\n",
       "      <td>9.8</td>\n",
       "      <td>5</td>\n",
       "    </tr>\n",
       "    <tr>\n",
       "      <th>3</th>\n",
       "      <td>11.2</td>\n",
       "      <td>0.28</td>\n",
       "      <td>0.56</td>\n",
       "      <td>1.9</td>\n",
       "      <td>0.075</td>\n",
       "      <td>17.0</td>\n",
       "      <td>60.0</td>\n",
       "      <td>0.9980</td>\n",
       "      <td>3.16</td>\n",
       "      <td>0.58</td>\n",
       "      <td>9.8</td>\n",
       "      <td>6</td>\n",
       "    </tr>\n",
       "    <tr>\n",
       "      <th>4</th>\n",
       "      <td>7.4</td>\n",
       "      <td>0.70</td>\n",
       "      <td>0.00</td>\n",
       "      <td>1.9</td>\n",
       "      <td>0.076</td>\n",
       "      <td>11.0</td>\n",
       "      <td>34.0</td>\n",
       "      <td>0.9978</td>\n",
       "      <td>3.51</td>\n",
       "      <td>0.56</td>\n",
       "      <td>9.4</td>\n",
       "      <td>5</td>\n",
       "    </tr>\n",
       "  </tbody>\n",
       "</table>\n",
       "</div>"
      ],
      "text/plain": [
       "   fixed acidity  volatile acidity  citric acid  residual sugar  chlorides  \\\n",
       "0            7.4              0.70         0.00             1.9      0.076   \n",
       "1            7.8              0.88         0.00             2.6      0.098   \n",
       "2            7.8              0.76         0.04             2.3      0.092   \n",
       "3           11.2              0.28         0.56             1.9      0.075   \n",
       "4            7.4              0.70         0.00             1.9      0.076   \n",
       "\n",
       "   free sulfur dioxide  total sulfur dioxide  density    pH  sulphates  \\\n",
       "0                 11.0                  34.0   0.9978  3.51       0.56   \n",
       "1                 25.0                  67.0   0.9968  3.20       0.68   \n",
       "2                 15.0                  54.0   0.9970  3.26       0.65   \n",
       "3                 17.0                  60.0   0.9980  3.16       0.58   \n",
       "4                 11.0                  34.0   0.9978  3.51       0.56   \n",
       "\n",
       "   alcohol  quality  \n",
       "0      9.4        5  \n",
       "1      9.8        5  \n",
       "2      9.8        5  \n",
       "3      9.8        6  \n",
       "4      9.4        5  "
      ]
     },
     "execution_count": 2,
     "metadata": {},
     "output_type": "execute_result"
    }
   ],
   "source": [
    "df=pd.read_csv(r'D:\\DS-Input-Files\\winequality-red.csv')\n",
    "df.head(5)"
   ]
  },
  {
   "cell_type": "code",
   "execution_count": 3,
   "metadata": {},
   "outputs": [
    {
     "data": {
      "text/plain": [
       "fixed acidity             0\n",
       "volatile acidity          0\n",
       "citric acid             132\n",
       "residual sugar            0\n",
       "chlorides                 0\n",
       "free sulfur dioxide       0\n",
       "total sulfur dioxide      0\n",
       "density                   0\n",
       "pH                        0\n",
       "sulphates                 0\n",
       "alcohol                   0\n",
       "quality                   0\n",
       "dtype: int64"
      ]
     },
     "execution_count": 3,
     "metadata": {},
     "output_type": "execute_result"
    }
   ],
   "source": [
    "df.isin([0]).sum()"
   ]
  },
  {
   "cell_type": "code",
   "execution_count": 4,
   "metadata": {},
   "outputs": [
    {
     "name": "stdout",
     "output_type": "stream",
     "text": [
      "<class 'pandas.core.frame.DataFrame'>\n",
      "RangeIndex: 1599 entries, 0 to 1598\n",
      "Data columns (total 12 columns):\n",
      " #   Column                Non-Null Count  Dtype  \n",
      "---  ------                --------------  -----  \n",
      " 0   fixed acidity         1599 non-null   float64\n",
      " 1   volatile acidity      1599 non-null   float64\n",
      " 2   citric acid           1599 non-null   float64\n",
      " 3   residual sugar        1599 non-null   float64\n",
      " 4   chlorides             1599 non-null   float64\n",
      " 5   free sulfur dioxide   1599 non-null   float64\n",
      " 6   total sulfur dioxide  1599 non-null   float64\n",
      " 7   density               1599 non-null   float64\n",
      " 8   pH                    1599 non-null   float64\n",
      " 9   sulphates             1599 non-null   float64\n",
      " 10  alcohol               1599 non-null   float64\n",
      " 11  quality               1599 non-null   int64  \n",
      "dtypes: float64(11), int64(1)\n",
      "memory usage: 150.0 KB\n"
     ]
    }
   ],
   "source": [
    "df.info()"
   ]
  },
  {
   "cell_type": "code",
   "execution_count": 5,
   "metadata": {},
   "outputs": [],
   "source": [
    "log=LogisticRegression()"
   ]
  },
  {
   "cell_type": "code",
   "execution_count": 6,
   "metadata": {},
   "outputs": [
    {
     "data": {
      "text/plain": [
       "0    5\n",
       "1    5\n",
       "2    5\n",
       "3    6\n",
       "4    5\n",
       "Name: quality, dtype: int64"
      ]
     },
     "execution_count": 6,
     "metadata": {},
     "output_type": "execute_result"
    }
   ],
   "source": [
    "y=df.pop('quality')\n",
    "y.head(5)"
   ]
  },
  {
   "cell_type": "code",
   "execution_count": 7,
   "metadata": {},
   "outputs": [],
   "source": [
    "x_train,x_test,y_train,y_test=train_test_split(df,y,test_size=0.4)"
   ]
  },
  {
   "cell_type": "code",
   "execution_count": 8,
   "metadata": {},
   "outputs": [
    {
     "name": "stderr",
     "output_type": "stream",
     "text": [
      "C:\\Users\\Nandini\\anaconda3\\lib\\site-packages\\sklearn\\linear_model\\_logistic.py:762: ConvergenceWarning: lbfgs failed to converge (status=1):\n",
      "STOP: TOTAL NO. of ITERATIONS REACHED LIMIT.\n",
      "\n",
      "Increase the number of iterations (max_iter) or scale the data as shown in:\n",
      "    https://scikit-learn.org/stable/modules/preprocessing.html\n",
      "Please also refer to the documentation for alternative solver options:\n",
      "    https://scikit-learn.org/stable/modules/linear_model.html#logistic-regression\n",
      "  n_iter_i = _check_optimize_result(\n"
     ]
    },
    {
     "data": {
      "text/plain": [
       "LogisticRegression()"
      ]
     },
     "execution_count": 8,
     "metadata": {},
     "output_type": "execute_result"
    }
   ],
   "source": [
    "log.fit(x_train,y_train)"
   ]
  },
  {
   "cell_type": "code",
   "execution_count": 9,
   "metadata": {},
   "outputs": [],
   "source": [
    "test_pred=log.predict(x_test)"
   ]
  },
  {
   "cell_type": "code",
   "execution_count": 17,
   "metadata": {},
   "outputs": [
    {
     "name": "stdout",
     "output_type": "stream",
     "text": [
      "Accuracy score is  56.875\n"
     ]
    }
   ],
   "source": [
    "print(\"Accuracy score is \",accuracy_score(y_test,test_pred)*100)"
   ]
  },
  {
   "cell_type": "code",
   "execution_count": 12,
   "metadata": {},
   "outputs": [],
   "source": [
    "rf=RandomForestClassifier()"
   ]
  },
  {
   "cell_type": "code",
   "execution_count": 13,
   "metadata": {},
   "outputs": [
    {
     "data": {
      "text/plain": [
       "RandomForestClassifier()"
      ]
     },
     "execution_count": 13,
     "metadata": {},
     "output_type": "execute_result"
    }
   ],
   "source": [
    "rf.fit(x_train,y_train)"
   ]
  },
  {
   "cell_type": "code",
   "execution_count": 14,
   "metadata": {},
   "outputs": [],
   "source": [
    "pred=rf.predict(x_test)"
   ]
  },
  {
   "cell_type": "code",
   "execution_count": 18,
   "metadata": {},
   "outputs": [
    {
     "name": "stdout",
     "output_type": "stream",
     "text": [
      "accuracy is  65.3125\n"
     ]
    }
   ],
   "source": [
    "print(\"accuracy is \",accuracy_score(y_test,pred)*100)"
   ]
  },
  {
   "cell_type": "code",
   "execution_count": 19,
   "metadata": {},
   "outputs": [
    {
     "data": {
      "text/plain": [
       "array([0.07305367, 0.09503198, 0.07094081, 0.07482625, 0.08387715,\n",
       "       0.06995384, 0.09921603, 0.09764688, 0.07593462, 0.11442342,\n",
       "       0.14509534])"
      ]
     },
     "execution_count": 19,
     "metadata": {},
     "output_type": "execute_result"
    }
   ],
   "source": [
    "rf.feature_importances_"
   ]
  },
  {
   "cell_type": "code",
   "execution_count": 23,
   "metadata": {},
   "outputs": [
    {
     "data": {
      "text/plain": [
       "[(0.0699538445670683, 'free sulfur dioxide'),\n",
       " (0.07094081379999541, 'citric acid'),\n",
       " (0.0730536727417662, 'fixed acidity'),\n",
       " (0.0748262504208383, 'residual sugar'),\n",
       " (0.07593461592743404, 'pH'),\n",
       " (0.08387715211282706, 'chlorides'),\n",
       " (0.09503198477247997, 'volatile acidity'),\n",
       " (0.09764687587509323, 'density'),\n",
       " (0.0992160283244195, 'total sulfur dioxide'),\n",
       " (0.1144234211128769, 'sulphates'),\n",
       " (0.14509534034520105, 'alcohol')]"
      ]
     },
     "execution_count": 23,
     "metadata": {},
     "output_type": "execute_result"
    }
   ],
   "source": [
    "sorted(list(zip(rf.feature_importances_,df.columns)))"
   ]
  },
  {
   "cell_type": "code",
   "execution_count": 22,
   "metadata": {},
   "outputs": [],
   "source": [
    "from sklearn.model_selection import GridSearchCV"
   ]
  },
  {
   "cell_type": "code",
   "execution_count": 23,
   "metadata": {},
   "outputs": [],
   "source": [
    "params = {\n",
    "    'n_estimators':[200,300,400],\n",
    "    'max_depth' : [10,15,20],\n",
    "    'min_samples_leaf' : [3,5,7]\n",
    "}"
   ]
  },
  {
   "cell_type": "code",
   "execution_count": 24,
   "metadata": {},
   "outputs": [],
   "source": [
    "gs=GridSearchCV(rf,params,verbose=2)"
   ]
  },
  {
   "cell_type": "code",
   "execution_count": 25,
   "metadata": {},
   "outputs": [
    {
     "name": "stdout",
     "output_type": "stream",
     "text": [
      "Fitting 5 folds for each of 27 candidates, totalling 135 fits\n",
      "[CV] max_depth=10, min_samples_leaf=3, n_estimators=200 ..............\n"
     ]
    },
    {
     "name": "stderr",
     "output_type": "stream",
     "text": [
      "[Parallel(n_jobs=1)]: Using backend SequentialBackend with 1 concurrent workers.\n"
     ]
    },
    {
     "name": "stdout",
     "output_type": "stream",
     "text": [
      "[CV]  max_depth=10, min_samples_leaf=3, n_estimators=200, total=   0.4s\n",
      "[CV] max_depth=10, min_samples_leaf=3, n_estimators=200 ..............\n"
     ]
    },
    {
     "name": "stderr",
     "output_type": "stream",
     "text": [
      "[Parallel(n_jobs=1)]: Done   1 out of   1 | elapsed:    0.3s remaining:    0.0s\n"
     ]
    },
    {
     "name": "stdout",
     "output_type": "stream",
     "text": [
      "[CV]  max_depth=10, min_samples_leaf=3, n_estimators=200, total=   0.3s\n",
      "[CV] max_depth=10, min_samples_leaf=3, n_estimators=200 ..............\n",
      "[CV]  max_depth=10, min_samples_leaf=3, n_estimators=200, total=   0.3s\n",
      "[CV] max_depth=10, min_samples_leaf=3, n_estimators=200 ..............\n",
      "[CV]  max_depth=10, min_samples_leaf=3, n_estimators=200, total=   0.4s\n",
      "[CV] max_depth=10, min_samples_leaf=3, n_estimators=200 ..............\n",
      "[CV]  max_depth=10, min_samples_leaf=3, n_estimators=200, total=   0.4s\n",
      "[CV] max_depth=10, min_samples_leaf=3, n_estimators=300 ..............\n",
      "[CV]  max_depth=10, min_samples_leaf=3, n_estimators=300, total=   0.5s\n",
      "[CV] max_depth=10, min_samples_leaf=3, n_estimators=300 ..............\n",
      "[CV]  max_depth=10, min_samples_leaf=3, n_estimators=300, total=   0.5s\n",
      "[CV] max_depth=10, min_samples_leaf=3, n_estimators=300 ..............\n",
      "[CV]  max_depth=10, min_samples_leaf=3, n_estimators=300, total=   0.5s\n",
      "[CV] max_depth=10, min_samples_leaf=3, n_estimators=300 ..............\n",
      "[CV]  max_depth=10, min_samples_leaf=3, n_estimators=300, total=   0.5s\n",
      "[CV] max_depth=10, min_samples_leaf=3, n_estimators=300 ..............\n",
      "[CV]  max_depth=10, min_samples_leaf=3, n_estimators=300, total=   0.6s\n",
      "[CV] max_depth=10, min_samples_leaf=3, n_estimators=400 ..............\n",
      "[CV]  max_depth=10, min_samples_leaf=3, n_estimators=400, total=   0.7s\n",
      "[CV] max_depth=10, min_samples_leaf=3, n_estimators=400 ..............\n",
      "[CV]  max_depth=10, min_samples_leaf=3, n_estimators=400, total=   0.7s\n",
      "[CV] max_depth=10, min_samples_leaf=3, n_estimators=400 ..............\n",
      "[CV]  max_depth=10, min_samples_leaf=3, n_estimators=400, total=   0.7s\n",
      "[CV] max_depth=10, min_samples_leaf=3, n_estimators=400 ..............\n",
      "[CV]  max_depth=10, min_samples_leaf=3, n_estimators=400, total=   0.7s\n",
      "[CV] max_depth=10, min_samples_leaf=3, n_estimators=400 ..............\n",
      "[CV]  max_depth=10, min_samples_leaf=3, n_estimators=400, total=   0.7s\n",
      "[CV] max_depth=10, min_samples_leaf=5, n_estimators=200 ..............\n",
      "[CV]  max_depth=10, min_samples_leaf=5, n_estimators=200, total=   0.3s\n",
      "[CV] max_depth=10, min_samples_leaf=5, n_estimators=200 ..............\n",
      "[CV]  max_depth=10, min_samples_leaf=5, n_estimators=200, total=   0.3s\n",
      "[CV] max_depth=10, min_samples_leaf=5, n_estimators=200 ..............\n",
      "[CV]  max_depth=10, min_samples_leaf=5, n_estimators=200, total=   0.3s\n",
      "[CV] max_depth=10, min_samples_leaf=5, n_estimators=200 ..............\n",
      "[CV]  max_depth=10, min_samples_leaf=5, n_estimators=200, total=   0.3s\n",
      "[CV] max_depth=10, min_samples_leaf=5, n_estimators=200 ..............\n",
      "[CV]  max_depth=10, min_samples_leaf=5, n_estimators=200, total=   0.4s\n",
      "[CV] max_depth=10, min_samples_leaf=5, n_estimators=300 ..............\n",
      "[CV]  max_depth=10, min_samples_leaf=5, n_estimators=300, total=   0.5s\n",
      "[CV] max_depth=10, min_samples_leaf=5, n_estimators=300 ..............\n",
      "[CV]  max_depth=10, min_samples_leaf=5, n_estimators=300, total=   0.6s\n",
      "[CV] max_depth=10, min_samples_leaf=5, n_estimators=300 ..............\n",
      "[CV]  max_depth=10, min_samples_leaf=5, n_estimators=300, total=   0.5s\n",
      "[CV] max_depth=10, min_samples_leaf=5, n_estimators=300 ..............\n",
      "[CV]  max_depth=10, min_samples_leaf=5, n_estimators=300, total=   0.6s\n",
      "[CV] max_depth=10, min_samples_leaf=5, n_estimators=300 ..............\n",
      "[CV]  max_depth=10, min_samples_leaf=5, n_estimators=300, total=   0.6s\n",
      "[CV] max_depth=10, min_samples_leaf=5, n_estimators=400 ..............\n",
      "[CV]  max_depth=10, min_samples_leaf=5, n_estimators=400, total=   0.8s\n",
      "[CV] max_depth=10, min_samples_leaf=5, n_estimators=400 ..............\n",
      "[CV]  max_depth=10, min_samples_leaf=5, n_estimators=400, total=   0.7s\n",
      "[CV] max_depth=10, min_samples_leaf=5, n_estimators=400 ..............\n",
      "[CV]  max_depth=10, min_samples_leaf=5, n_estimators=400, total=   0.7s\n",
      "[CV] max_depth=10, min_samples_leaf=5, n_estimators=400 ..............\n",
      "[CV]  max_depth=10, min_samples_leaf=5, n_estimators=400, total=   0.7s\n",
      "[CV] max_depth=10, min_samples_leaf=5, n_estimators=400 ..............\n",
      "[CV]  max_depth=10, min_samples_leaf=5, n_estimators=400, total=   0.7s\n",
      "[CV] max_depth=10, min_samples_leaf=7, n_estimators=200 ..............\n",
      "[CV]  max_depth=10, min_samples_leaf=7, n_estimators=200, total=   0.4s\n",
      "[CV] max_depth=10, min_samples_leaf=7, n_estimators=200 ..............\n",
      "[CV]  max_depth=10, min_samples_leaf=7, n_estimators=200, total=   0.4s\n",
      "[CV] max_depth=10, min_samples_leaf=7, n_estimators=200 ..............\n",
      "[CV]  max_depth=10, min_samples_leaf=7, n_estimators=200, total=   0.3s\n",
      "[CV] max_depth=10, min_samples_leaf=7, n_estimators=200 ..............\n",
      "[CV]  max_depth=10, min_samples_leaf=7, n_estimators=200, total=   0.5s\n",
      "[CV] max_depth=10, min_samples_leaf=7, n_estimators=200 ..............\n",
      "[CV]  max_depth=10, min_samples_leaf=7, n_estimators=200, total=   0.4s\n",
      "[CV] max_depth=10, min_samples_leaf=7, n_estimators=300 ..............\n",
      "[CV]  max_depth=10, min_samples_leaf=7, n_estimators=300, total=   0.7s\n",
      "[CV] max_depth=10, min_samples_leaf=7, n_estimators=300 ..............\n",
      "[CV]  max_depth=10, min_samples_leaf=7, n_estimators=300, total=   0.5s\n",
      "[CV] max_depth=10, min_samples_leaf=7, n_estimators=300 ..............\n",
      "[CV]  max_depth=10, min_samples_leaf=7, n_estimators=300, total=   0.5s\n",
      "[CV] max_depth=10, min_samples_leaf=7, n_estimators=300 ..............\n",
      "[CV]  max_depth=10, min_samples_leaf=7, n_estimators=300, total=   0.5s\n",
      "[CV] max_depth=10, min_samples_leaf=7, n_estimators=300 ..............\n",
      "[CV]  max_depth=10, min_samples_leaf=7, n_estimators=300, total=   0.6s\n",
      "[CV] max_depth=10, min_samples_leaf=7, n_estimators=400 ..............\n",
      "[CV]  max_depth=10, min_samples_leaf=7, n_estimators=400, total=   0.8s\n",
      "[CV] max_depth=10, min_samples_leaf=7, n_estimators=400 ..............\n",
      "[CV]  max_depth=10, min_samples_leaf=7, n_estimators=400, total=   0.8s\n",
      "[CV] max_depth=10, min_samples_leaf=7, n_estimators=400 ..............\n",
      "[CV]  max_depth=10, min_samples_leaf=7, n_estimators=400, total=   0.9s\n",
      "[CV] max_depth=10, min_samples_leaf=7, n_estimators=400 ..............\n",
      "[CV]  max_depth=10, min_samples_leaf=7, n_estimators=400, total=   0.8s\n",
      "[CV] max_depth=10, min_samples_leaf=7, n_estimators=400 ..............\n",
      "[CV]  max_depth=10, min_samples_leaf=7, n_estimators=400, total=   0.9s\n",
      "[CV] max_depth=15, min_samples_leaf=3, n_estimators=200 ..............\n",
      "[CV]  max_depth=15, min_samples_leaf=3, n_estimators=200, total=   0.5s\n",
      "[CV] max_depth=15, min_samples_leaf=3, n_estimators=200 ..............\n",
      "[CV]  max_depth=15, min_samples_leaf=3, n_estimators=200, total=   0.5s\n",
      "[CV] max_depth=15, min_samples_leaf=3, n_estimators=200 ..............\n",
      "[CV]  max_depth=15, min_samples_leaf=3, n_estimators=200, total=   0.5s\n",
      "[CV] max_depth=15, min_samples_leaf=3, n_estimators=200 ..............\n",
      "[CV]  max_depth=15, min_samples_leaf=3, n_estimators=200, total=   0.4s\n",
      "[CV] max_depth=15, min_samples_leaf=3, n_estimators=200 ..............\n",
      "[CV]  max_depth=15, min_samples_leaf=3, n_estimators=200, total=   0.4s\n",
      "[CV] max_depth=15, min_samples_leaf=3, n_estimators=300 ..............\n",
      "[CV]  max_depth=15, min_samples_leaf=3, n_estimators=300, total=   0.6s\n",
      "[CV] max_depth=15, min_samples_leaf=3, n_estimators=300 ..............\n",
      "[CV]  max_depth=15, min_samples_leaf=3, n_estimators=300, total=   0.7s\n",
      "[CV] max_depth=15, min_samples_leaf=3, n_estimators=300 ..............\n",
      "[CV]  max_depth=15, min_samples_leaf=3, n_estimators=300, total=   0.8s\n",
      "[CV] max_depth=15, min_samples_leaf=3, n_estimators=300 ..............\n",
      "[CV]  max_depth=15, min_samples_leaf=3, n_estimators=300, total=   0.6s\n",
      "[CV] max_depth=15, min_samples_leaf=3, n_estimators=300 ..............\n",
      "[CV]  max_depth=15, min_samples_leaf=3, n_estimators=300, total=   0.6s\n",
      "[CV] max_depth=15, min_samples_leaf=3, n_estimators=400 ..............\n",
      "[CV]  max_depth=15, min_samples_leaf=3, n_estimators=400, total=   0.8s\n",
      "[CV] max_depth=15, min_samples_leaf=3, n_estimators=400 ..............\n",
      "[CV]  max_depth=15, min_samples_leaf=3, n_estimators=400, total=   0.7s\n",
      "[CV] max_depth=15, min_samples_leaf=3, n_estimators=400 ..............\n",
      "[CV]  max_depth=15, min_samples_leaf=3, n_estimators=400, total=   0.8s\n",
      "[CV] max_depth=15, min_samples_leaf=3, n_estimators=400 ..............\n",
      "[CV]  max_depth=15, min_samples_leaf=3, n_estimators=400, total=   0.8s\n",
      "[CV] max_depth=15, min_samples_leaf=3, n_estimators=400 ..............\n"
     ]
    },
    {
     "name": "stdout",
     "output_type": "stream",
     "text": [
      "[CV]  max_depth=15, min_samples_leaf=3, n_estimators=400, total=   0.8s\n",
      "[CV] max_depth=15, min_samples_leaf=5, n_estimators=200 ..............\n",
      "[CV]  max_depth=15, min_samples_leaf=5, n_estimators=200, total=   0.4s\n",
      "[CV] max_depth=15, min_samples_leaf=5, n_estimators=200 ..............\n",
      "[CV]  max_depth=15, min_samples_leaf=5, n_estimators=200, total=   0.4s\n",
      "[CV] max_depth=15, min_samples_leaf=5, n_estimators=200 ..............\n",
      "[CV]  max_depth=15, min_samples_leaf=5, n_estimators=200, total=   0.3s\n",
      "[CV] max_depth=15, min_samples_leaf=5, n_estimators=200 ..............\n",
      "[CV]  max_depth=15, min_samples_leaf=5, n_estimators=200, total=   0.3s\n",
      "[CV] max_depth=15, min_samples_leaf=5, n_estimators=200 ..............\n",
      "[CV]  max_depth=15, min_samples_leaf=5, n_estimators=200, total=   0.4s\n",
      "[CV] max_depth=15, min_samples_leaf=5, n_estimators=300 ..............\n",
      "[CV]  max_depth=15, min_samples_leaf=5, n_estimators=300, total=   0.6s\n",
      "[CV] max_depth=15, min_samples_leaf=5, n_estimators=300 ..............\n",
      "[CV]  max_depth=15, min_samples_leaf=5, n_estimators=300, total=   0.5s\n",
      "[CV] max_depth=15, min_samples_leaf=5, n_estimators=300 ..............\n",
      "[CV]  max_depth=15, min_samples_leaf=5, n_estimators=300, total=   0.5s\n",
      "[CV] max_depth=15, min_samples_leaf=5, n_estimators=300 ..............\n",
      "[CV]  max_depth=15, min_samples_leaf=5, n_estimators=300, total=   0.7s\n",
      "[CV] max_depth=15, min_samples_leaf=5, n_estimators=300 ..............\n",
      "[CV]  max_depth=15, min_samples_leaf=5, n_estimators=300, total=   0.7s\n",
      "[CV] max_depth=15, min_samples_leaf=5, n_estimators=400 ..............\n",
      "[CV]  max_depth=15, min_samples_leaf=5, n_estimators=400, total=   0.8s\n",
      "[CV] max_depth=15, min_samples_leaf=5, n_estimators=400 ..............\n",
      "[CV]  max_depth=15, min_samples_leaf=5, n_estimators=400, total=   0.7s\n",
      "[CV] max_depth=15, min_samples_leaf=5, n_estimators=400 ..............\n",
      "[CV]  max_depth=15, min_samples_leaf=5, n_estimators=400, total=   0.7s\n",
      "[CV] max_depth=15, min_samples_leaf=5, n_estimators=400 ..............\n",
      "[CV]  max_depth=15, min_samples_leaf=5, n_estimators=400, total=   0.8s\n",
      "[CV] max_depth=15, min_samples_leaf=5, n_estimators=400 ..............\n",
      "[CV]  max_depth=15, min_samples_leaf=5, n_estimators=400, total=   0.7s\n",
      "[CV] max_depth=15, min_samples_leaf=7, n_estimators=200 ..............\n",
      "[CV]  max_depth=15, min_samples_leaf=7, n_estimators=200, total=   0.3s\n",
      "[CV] max_depth=15, min_samples_leaf=7, n_estimators=200 ..............\n",
      "[CV]  max_depth=15, min_samples_leaf=7, n_estimators=200, total=   0.3s\n",
      "[CV] max_depth=15, min_samples_leaf=7, n_estimators=200 ..............\n",
      "[CV]  max_depth=15, min_samples_leaf=7, n_estimators=200, total=   0.3s\n",
      "[CV] max_depth=15, min_samples_leaf=7, n_estimators=200 ..............\n",
      "[CV]  max_depth=15, min_samples_leaf=7, n_estimators=200, total=   0.3s\n",
      "[CV] max_depth=15, min_samples_leaf=7, n_estimators=200 ..............\n",
      "[CV]  max_depth=15, min_samples_leaf=7, n_estimators=200, total=   0.4s\n",
      "[CV] max_depth=15, min_samples_leaf=7, n_estimators=300 ..............\n",
      "[CV]  max_depth=15, min_samples_leaf=7, n_estimators=300, total=   0.5s\n",
      "[CV] max_depth=15, min_samples_leaf=7, n_estimators=300 ..............\n",
      "[CV]  max_depth=15, min_samples_leaf=7, n_estimators=300, total=   0.6s\n",
      "[CV] max_depth=15, min_samples_leaf=7, n_estimators=300 ..............\n",
      "[CV]  max_depth=15, min_samples_leaf=7, n_estimators=300, total=   0.5s\n",
      "[CV] max_depth=15, min_samples_leaf=7, n_estimators=300 ..............\n",
      "[CV]  max_depth=15, min_samples_leaf=7, n_estimators=300, total=   0.5s\n",
      "[CV] max_depth=15, min_samples_leaf=7, n_estimators=300 ..............\n",
      "[CV]  max_depth=15, min_samples_leaf=7, n_estimators=300, total=   0.5s\n",
      "[CV] max_depth=15, min_samples_leaf=7, n_estimators=400 ..............\n",
      "[CV]  max_depth=15, min_samples_leaf=7, n_estimators=400, total=   0.7s\n",
      "[CV] max_depth=15, min_samples_leaf=7, n_estimators=400 ..............\n",
      "[CV]  max_depth=15, min_samples_leaf=7, n_estimators=400, total=   0.7s\n",
      "[CV] max_depth=15, min_samples_leaf=7, n_estimators=400 ..............\n",
      "[CV]  max_depth=15, min_samples_leaf=7, n_estimators=400, total=   0.7s\n",
      "[CV] max_depth=15, min_samples_leaf=7, n_estimators=400 ..............\n",
      "[CV]  max_depth=15, min_samples_leaf=7, n_estimators=400, total=   0.6s\n",
      "[CV] max_depth=15, min_samples_leaf=7, n_estimators=400 ..............\n",
      "[CV]  max_depth=15, min_samples_leaf=7, n_estimators=400, total=   0.7s\n",
      "[CV] max_depth=20, min_samples_leaf=3, n_estimators=200 ..............\n",
      "[CV]  max_depth=20, min_samples_leaf=3, n_estimators=200, total=   0.4s\n",
      "[CV] max_depth=20, min_samples_leaf=3, n_estimators=200 ..............\n",
      "[CV]  max_depth=20, min_samples_leaf=3, n_estimators=200, total=   0.4s\n",
      "[CV] max_depth=20, min_samples_leaf=3, n_estimators=200 ..............\n",
      "[CV]  max_depth=20, min_samples_leaf=3, n_estimators=200, total=   0.4s\n",
      "[CV] max_depth=20, min_samples_leaf=3, n_estimators=200 ..............\n",
      "[CV]  max_depth=20, min_samples_leaf=3, n_estimators=200, total=   0.4s\n",
      "[CV] max_depth=20, min_samples_leaf=3, n_estimators=200 ..............\n",
      "[CV]  max_depth=20, min_samples_leaf=3, n_estimators=200, total=   0.4s\n",
      "[CV] max_depth=20, min_samples_leaf=3, n_estimators=300 ..............\n",
      "[CV]  max_depth=20, min_samples_leaf=3, n_estimators=300, total=   0.5s\n",
      "[CV] max_depth=20, min_samples_leaf=3, n_estimators=300 ..............\n",
      "[CV]  max_depth=20, min_samples_leaf=3, n_estimators=300, total=   0.7s\n",
      "[CV] max_depth=20, min_samples_leaf=3, n_estimators=300 ..............\n",
      "[CV]  max_depth=20, min_samples_leaf=3, n_estimators=300, total=   0.6s\n",
      "[CV] max_depth=20, min_samples_leaf=3, n_estimators=300 ..............\n",
      "[CV]  max_depth=20, min_samples_leaf=3, n_estimators=300, total=   0.5s\n",
      "[CV] max_depth=20, min_samples_leaf=3, n_estimators=300 ..............\n",
      "[CV]  max_depth=20, min_samples_leaf=3, n_estimators=300, total=   0.7s\n",
      "[CV] max_depth=20, min_samples_leaf=3, n_estimators=400 ..............\n",
      "[CV]  max_depth=20, min_samples_leaf=3, n_estimators=400, total=   0.8s\n",
      "[CV] max_depth=20, min_samples_leaf=3, n_estimators=400 ..............\n",
      "[CV]  max_depth=20, min_samples_leaf=3, n_estimators=400, total=   0.9s\n",
      "[CV] max_depth=20, min_samples_leaf=3, n_estimators=400 ..............\n",
      "[CV]  max_depth=20, min_samples_leaf=3, n_estimators=400, total=   0.7s\n",
      "[CV] max_depth=20, min_samples_leaf=3, n_estimators=400 ..............\n",
      "[CV]  max_depth=20, min_samples_leaf=3, n_estimators=400, total=   0.7s\n",
      "[CV] max_depth=20, min_samples_leaf=3, n_estimators=400 ..............\n",
      "[CV]  max_depth=20, min_samples_leaf=3, n_estimators=400, total=   0.7s\n",
      "[CV] max_depth=20, min_samples_leaf=5, n_estimators=200 ..............\n",
      "[CV]  max_depth=20, min_samples_leaf=5, n_estimators=200, total=   0.3s\n",
      "[CV] max_depth=20, min_samples_leaf=5, n_estimators=200 ..............\n",
      "[CV]  max_depth=20, min_samples_leaf=5, n_estimators=200, total=   0.3s\n",
      "[CV] max_depth=20, min_samples_leaf=5, n_estimators=200 ..............\n",
      "[CV]  max_depth=20, min_samples_leaf=5, n_estimators=200, total=   0.3s\n",
      "[CV] max_depth=20, min_samples_leaf=5, n_estimators=200 ..............\n",
      "[CV]  max_depth=20, min_samples_leaf=5, n_estimators=200, total=   0.4s\n",
      "[CV] max_depth=20, min_samples_leaf=5, n_estimators=200 ..............\n",
      "[CV]  max_depth=20, min_samples_leaf=5, n_estimators=200, total=   0.4s\n",
      "[CV] max_depth=20, min_samples_leaf=5, n_estimators=300 ..............\n",
      "[CV]  max_depth=20, min_samples_leaf=5, n_estimators=300, total=   0.5s\n",
      "[CV] max_depth=20, min_samples_leaf=5, n_estimators=300 ..............\n",
      "[CV]  max_depth=20, min_samples_leaf=5, n_estimators=300, total=   0.5s\n",
      "[CV] max_depth=20, min_samples_leaf=5, n_estimators=300 ..............\n",
      "[CV]  max_depth=20, min_samples_leaf=5, n_estimators=300, total=   0.5s\n",
      "[CV] max_depth=20, min_samples_leaf=5, n_estimators=300 ..............\n",
      "[CV]  max_depth=20, min_samples_leaf=5, n_estimators=300, total=   0.5s\n",
      "[CV] max_depth=20, min_samples_leaf=5, n_estimators=300 ..............\n",
      "[CV]  max_depth=20, min_samples_leaf=5, n_estimators=300, total=   0.5s\n",
      "[CV] max_depth=20, min_samples_leaf=5, n_estimators=400 ..............\n",
      "[CV]  max_depth=20, min_samples_leaf=5, n_estimators=400, total=   0.7s\n",
      "[CV] max_depth=20, min_samples_leaf=5, n_estimators=400 ..............\n",
      "[CV]  max_depth=20, min_samples_leaf=5, n_estimators=400, total=   0.7s\n",
      "[CV] max_depth=20, min_samples_leaf=5, n_estimators=400 ..............\n"
     ]
    },
    {
     "name": "stdout",
     "output_type": "stream",
     "text": [
      "[CV]  max_depth=20, min_samples_leaf=5, n_estimators=400, total=   0.7s\n",
      "[CV] max_depth=20, min_samples_leaf=5, n_estimators=400 ..............\n",
      "[CV]  max_depth=20, min_samples_leaf=5, n_estimators=400, total=   0.7s\n",
      "[CV] max_depth=20, min_samples_leaf=5, n_estimators=400 ..............\n",
      "[CV]  max_depth=20, min_samples_leaf=5, n_estimators=400, total=   0.7s\n",
      "[CV] max_depth=20, min_samples_leaf=7, n_estimators=200 ..............\n",
      "[CV]  max_depth=20, min_samples_leaf=7, n_estimators=200, total=   0.3s\n",
      "[CV] max_depth=20, min_samples_leaf=7, n_estimators=200 ..............\n",
      "[CV]  max_depth=20, min_samples_leaf=7, n_estimators=200, total=   0.3s\n",
      "[CV] max_depth=20, min_samples_leaf=7, n_estimators=200 ..............\n",
      "[CV]  max_depth=20, min_samples_leaf=7, n_estimators=200, total=   0.3s\n",
      "[CV] max_depth=20, min_samples_leaf=7, n_estimators=200 ..............\n",
      "[CV]  max_depth=20, min_samples_leaf=7, n_estimators=200, total=   0.3s\n",
      "[CV] max_depth=20, min_samples_leaf=7, n_estimators=200 ..............\n",
      "[CV]  max_depth=20, min_samples_leaf=7, n_estimators=200, total=   0.4s\n",
      "[CV] max_depth=20, min_samples_leaf=7, n_estimators=300 ..............\n",
      "[CV]  max_depth=20, min_samples_leaf=7, n_estimators=300, total=   0.5s\n",
      "[CV] max_depth=20, min_samples_leaf=7, n_estimators=300 ..............\n",
      "[CV]  max_depth=20, min_samples_leaf=7, n_estimators=300, total=   0.5s\n",
      "[CV] max_depth=20, min_samples_leaf=7, n_estimators=300 ..............\n",
      "[CV]  max_depth=20, min_samples_leaf=7, n_estimators=300, total=   0.5s\n",
      "[CV] max_depth=20, min_samples_leaf=7, n_estimators=300 ..............\n",
      "[CV]  max_depth=20, min_samples_leaf=7, n_estimators=300, total=   0.5s\n",
      "[CV] max_depth=20, min_samples_leaf=7, n_estimators=300 ..............\n",
      "[CV]  max_depth=20, min_samples_leaf=7, n_estimators=300, total=   0.5s\n",
      "[CV] max_depth=20, min_samples_leaf=7, n_estimators=400 ..............\n",
      "[CV]  max_depth=20, min_samples_leaf=7, n_estimators=400, total=   0.7s\n",
      "[CV] max_depth=20, min_samples_leaf=7, n_estimators=400 ..............\n",
      "[CV]  max_depth=20, min_samples_leaf=7, n_estimators=400, total=   0.6s\n",
      "[CV] max_depth=20, min_samples_leaf=7, n_estimators=400 ..............\n",
      "[CV]  max_depth=20, min_samples_leaf=7, n_estimators=400, total=   0.7s\n",
      "[CV] max_depth=20, min_samples_leaf=7, n_estimators=400 ..............\n",
      "[CV]  max_depth=20, min_samples_leaf=7, n_estimators=400, total=   0.8s\n",
      "[CV] max_depth=20, min_samples_leaf=7, n_estimators=400 ..............\n",
      "[CV]  max_depth=20, min_samples_leaf=7, n_estimators=400, total=   0.7s\n"
     ]
    },
    {
     "name": "stderr",
     "output_type": "stream",
     "text": [
      "[Parallel(n_jobs=1)]: Done 135 out of 135 | elapsed:  1.3min finished\n"
     ]
    },
    {
     "data": {
      "text/plain": [
       "GridSearchCV(estimator=RandomForestClassifier(),\n",
       "             param_grid={'max_depth': [10, 15, 20],\n",
       "                         'min_samples_leaf': [3, 5, 7],\n",
       "                         'n_estimators': [200, 300, 400]},\n",
       "             verbose=2)"
      ]
     },
     "execution_count": 25,
     "metadata": {},
     "output_type": "execute_result"
    }
   ],
   "source": [
    "gs.fit(x_train,y_train)"
   ]
  },
  {
   "cell_type": "code",
   "execution_count": 26,
   "metadata": {},
   "outputs": [
    {
     "data": {
      "text/plain": [
       "{'max_depth': 15, 'min_samples_leaf': 3, 'n_estimators': 400}"
      ]
     },
     "execution_count": 26,
     "metadata": {},
     "output_type": "execute_result"
    }
   ],
   "source": [
    "gs.best_params_"
   ]
  },
  {
   "cell_type": "code",
   "execution_count": 28,
   "metadata": {},
   "outputs": [
    {
     "data": {
      "text/plain": [
       "0.6548211169284468"
      ]
     },
     "execution_count": 28,
     "metadata": {},
     "output_type": "execute_result"
    }
   ],
   "source": [
    "gs.best_estimator_\n",
    "gs.best_score_"
   ]
  },
  {
   "cell_type": "code",
   "execution_count": 35,
   "metadata": {},
   "outputs": [],
   "source": [
    "pred_gs=rf.predict(x_test)"
   ]
  },
  {
   "cell_type": "code",
   "execution_count": 36,
   "metadata": {},
   "outputs": [
    {
     "name": "stdout",
     "output_type": "stream",
     "text": [
      "accuracy 0.6640625\n"
     ]
    }
   ],
   "source": [
    "print(\"accuracy\",accuracy_score(y_test,pred_gs))"
   ]
  },
  {
   "cell_type": "code",
   "execution_count": 29,
   "metadata": {},
   "outputs": [],
   "source": [
    "rf1=RandomForestClassifier()"
   ]
  },
  {
   "cell_type": "code",
   "execution_count": 30,
   "metadata": {},
   "outputs": [
    {
     "data": {
      "text/plain": [
       "RandomForestClassifier()"
      ]
     },
     "execution_count": 30,
     "metadata": {},
     "output_type": "execute_result"
    }
   ],
   "source": [
    "rf1.fit(x_train,y_train)"
   ]
  },
  {
   "cell_type": "code",
   "execution_count": 31,
   "metadata": {},
   "outputs": [
    {
     "data": {
      "text/plain": [
       "False"
      ]
     },
     "execution_count": 31,
     "metadata": {},
     "output_type": "execute_result"
    }
   ],
   "source": [
    "rf1.oob_score #check hw to set it as true"
   ]
  },
  {
   "cell_type": "code",
   "execution_count": 33,
   "metadata": {},
   "outputs": [],
   "source": [
    "test_pred=rf1.predict(x_test)"
   ]
  },
  {
   "cell_type": "code",
   "execution_count": 34,
   "metadata": {},
   "outputs": [
    {
     "name": "stdout",
     "output_type": "stream",
     "text": [
      "accuracy is  0.6609375\n"
     ]
    }
   ],
   "source": [
    "print(\"accuracy is \",accuracy_score(y_test,test_pred))"
   ]
  },
  {
   "cell_type": "code",
   "execution_count": null,
   "metadata": {},
   "outputs": [],
   "source": []
  },
  {
   "cell_type": "code",
   "execution_count": null,
   "metadata": {},
   "outputs": [],
   "source": []
  },
  {
   "cell_type": "code",
   "execution_count": null,
   "metadata": {},
   "outputs": [],
   "source": []
  },
  {
   "cell_type": "code",
   "execution_count": null,
   "metadata": {},
   "outputs": [],
   "source": []
  },
  {
   "cell_type": "code",
   "execution_count": null,
   "metadata": {},
   "outputs": [],
   "source": []
  },
  {
   "cell_type": "code",
   "execution_count": null,
   "metadata": {},
   "outputs": [],
   "source": []
  },
  {
   "cell_type": "code",
   "execution_count": null,
   "metadata": {},
   "outputs": [],
   "source": []
  },
  {
   "cell_type": "code",
   "execution_count": null,
   "metadata": {},
   "outputs": [],
   "source": []
  },
  {
   "cell_type": "code",
   "execution_count": null,
   "metadata": {},
   "outputs": [],
   "source": []
  },
  {
   "cell_type": "code",
   "execution_count": null,
   "metadata": {},
   "outputs": [],
   "source": []
  },
  {
   "cell_type": "code",
   "execution_count": null,
   "metadata": {},
   "outputs": [],
   "source": []
  },
  {
   "cell_type": "code",
   "execution_count": null,
   "metadata": {},
   "outputs": [],
   "source": []
  },
  {
   "cell_type": "code",
   "execution_count": null,
   "metadata": {},
   "outputs": [],
   "source": []
  },
  {
   "cell_type": "code",
   "execution_count": null,
   "metadata": {},
   "outputs": [],
   "source": []
  },
  {
   "cell_type": "code",
   "execution_count": null,
   "metadata": {},
   "outputs": [],
   "source": []
  }
 ],
 "metadata": {
  "kernelspec": {
   "display_name": "Python 3",
   "language": "python",
   "name": "python3"
  },
  "language_info": {
   "codemirror_mode": {
    "name": "ipython",
    "version": 3
   },
   "file_extension": ".py",
   "mimetype": "text/x-python",
   "name": "python",
   "nbconvert_exporter": "python",
   "pygments_lexer": "ipython3",
   "version": "3.8.3"
  }
 },
 "nbformat": 4,
 "nbformat_minor": 4
}
