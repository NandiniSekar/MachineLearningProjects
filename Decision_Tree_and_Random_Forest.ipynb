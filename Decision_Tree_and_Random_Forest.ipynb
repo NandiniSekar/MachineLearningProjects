{
 "cells": [
  {
   "cell_type": "code",
   "execution_count": 45,
   "metadata": {},
   "outputs": [],
   "source": [
    "import pandas as pd\n",
    "import numpy as np\n",
    "import matplotlib.pyplot as plt\n",
    "%matplotlib inline\n",
    "from sklearn.preprocessing import StandardScaler\n",
    "from sklearn.linear_model import LogisticRegression\n",
    "from sklearn.tree import DecisionTreeClassifier\n",
    "from sklearn.model_selection import train_test_split\n",
    "from sklearn.metrics import accuracy_score\n",
    "from sklearn.preprocessing import PolynomialFeatures\n",
    "import warnings\n",
    "warnings.filterwarnings(\"ignore\")\n",
    "np.random.seed(42)"
   ]
  },
  {
   "cell_type": "code",
   "execution_count": 46,
   "metadata": {},
   "outputs": [],
   "source": [
    "df = pd.read_csv(\"http://archive.ics.uci.edu/ml/machine-learning-databases/wine-quality/winequality-white.csv\", sep = ';')\n",
    "y = df.pop('quality')"
   ]
  },
  {
   "cell_type": "code",
   "execution_count": 7,
   "metadata": {},
   "outputs": [
    {
     "name": "stdout",
     "output_type": "stream",
     "text": [
      "<class 'pandas.core.frame.DataFrame'>\n",
      "RangeIndex: 4898 entries, 0 to 4897\n",
      "Data columns (total 11 columns):\n",
      "fixed acidity           4898 non-null float64\n",
      "volatile acidity        4898 non-null float64\n",
      "citric acid             4898 non-null float64\n",
      "residual sugar          4898 non-null float64\n",
      "chlorides               4898 non-null float64\n",
      "free sulfur dioxide     4898 non-null float64\n",
      "total sulfur dioxide    4898 non-null float64\n",
      "density                 4898 non-null float64\n",
      "pH                      4898 non-null float64\n",
      "sulphates               4898 non-null float64\n",
      "alcohol                 4898 non-null float64\n",
      "dtypes: float64(11)\n",
      "memory usage: 421.0 KB\n"
     ]
    }
   ],
   "source": [
    "df.info()"
   ]
  },
  {
   "cell_type": "code",
   "execution_count": 3,
   "metadata": {
    "scrolled": false
   },
   "outputs": [
    {
     "data": {
      "text/html": [
       "<div>\n",
       "<style scoped>\n",
       "    .dataframe tbody tr th:only-of-type {\n",
       "        vertical-align: middle;\n",
       "    }\n",
       "\n",
       "    .dataframe tbody tr th {\n",
       "        vertical-align: top;\n",
       "    }\n",
       "\n",
       "    .dataframe thead th {\n",
       "        text-align: right;\n",
       "    }\n",
       "</style>\n",
       "<table border=\"1\" class=\"dataframe\">\n",
       "  <thead>\n",
       "    <tr style=\"text-align: right;\">\n",
       "      <th></th>\n",
       "      <th>fixed acidity</th>\n",
       "      <th>volatile acidity</th>\n",
       "      <th>citric acid</th>\n",
       "      <th>residual sugar</th>\n",
       "      <th>chlorides</th>\n",
       "      <th>free sulfur dioxide</th>\n",
       "      <th>total sulfur dioxide</th>\n",
       "      <th>density</th>\n",
       "      <th>pH</th>\n",
       "      <th>sulphates</th>\n",
       "      <th>alcohol</th>\n",
       "    </tr>\n",
       "  </thead>\n",
       "  <tbody>\n",
       "    <tr>\n",
       "      <th>0</th>\n",
       "      <td>7.0</td>\n",
       "      <td>0.27</td>\n",
       "      <td>0.36</td>\n",
       "      <td>20.7</td>\n",
       "      <td>0.045</td>\n",
       "      <td>45.0</td>\n",
       "      <td>170.0</td>\n",
       "      <td>1.0010</td>\n",
       "      <td>3.00</td>\n",
       "      <td>0.45</td>\n",
       "      <td>8.8</td>\n",
       "    </tr>\n",
       "    <tr>\n",
       "      <th>1</th>\n",
       "      <td>6.3</td>\n",
       "      <td>0.30</td>\n",
       "      <td>0.34</td>\n",
       "      <td>1.6</td>\n",
       "      <td>0.049</td>\n",
       "      <td>14.0</td>\n",
       "      <td>132.0</td>\n",
       "      <td>0.9940</td>\n",
       "      <td>3.30</td>\n",
       "      <td>0.49</td>\n",
       "      <td>9.5</td>\n",
       "    </tr>\n",
       "    <tr>\n",
       "      <th>2</th>\n",
       "      <td>8.1</td>\n",
       "      <td>0.28</td>\n",
       "      <td>0.40</td>\n",
       "      <td>6.9</td>\n",
       "      <td>0.050</td>\n",
       "      <td>30.0</td>\n",
       "      <td>97.0</td>\n",
       "      <td>0.9951</td>\n",
       "      <td>3.26</td>\n",
       "      <td>0.44</td>\n",
       "      <td>10.1</td>\n",
       "    </tr>\n",
       "    <tr>\n",
       "      <th>3</th>\n",
       "      <td>7.2</td>\n",
       "      <td>0.23</td>\n",
       "      <td>0.32</td>\n",
       "      <td>8.5</td>\n",
       "      <td>0.058</td>\n",
       "      <td>47.0</td>\n",
       "      <td>186.0</td>\n",
       "      <td>0.9956</td>\n",
       "      <td>3.19</td>\n",
       "      <td>0.40</td>\n",
       "      <td>9.9</td>\n",
       "    </tr>\n",
       "    <tr>\n",
       "      <th>4</th>\n",
       "      <td>7.2</td>\n",
       "      <td>0.23</td>\n",
       "      <td>0.32</td>\n",
       "      <td>8.5</td>\n",
       "      <td>0.058</td>\n",
       "      <td>47.0</td>\n",
       "      <td>186.0</td>\n",
       "      <td>0.9956</td>\n",
       "      <td>3.19</td>\n",
       "      <td>0.40</td>\n",
       "      <td>9.9</td>\n",
       "    </tr>\n",
       "  </tbody>\n",
       "</table>\n",
       "</div>"
      ],
      "text/plain": [
       "   fixed acidity  volatile acidity  citric acid  residual sugar  chlorides  \\\n",
       "0            7.0              0.27         0.36            20.7      0.045   \n",
       "1            6.3              0.30         0.34             1.6      0.049   \n",
       "2            8.1              0.28         0.40             6.9      0.050   \n",
       "3            7.2              0.23         0.32             8.5      0.058   \n",
       "4            7.2              0.23         0.32             8.5      0.058   \n",
       "\n",
       "   free sulfur dioxide  total sulfur dioxide  density    pH  sulphates  \\\n",
       "0                 45.0                 170.0   1.0010  3.00       0.45   \n",
       "1                 14.0                 132.0   0.9940  3.30       0.49   \n",
       "2                 30.0                  97.0   0.9951  3.26       0.44   \n",
       "3                 47.0                 186.0   0.9956  3.19       0.40   \n",
       "4                 47.0                 186.0   0.9956  3.19       0.40   \n",
       "\n",
       "   alcohol  \n",
       "0      8.8  \n",
       "1      9.5  \n",
       "2     10.1  \n",
       "3      9.9  \n",
       "4      9.9  "
      ]
     },
     "execution_count": 3,
     "metadata": {},
     "output_type": "execute_result"
    }
   ],
   "source": [
    "df.head()"
   ]
  },
  {
   "cell_type": "code",
   "execution_count": 6,
   "metadata": {},
   "outputs": [
    {
     "data": {
      "text/plain": [
       "6    2198\n",
       "5    1457\n",
       "7     880\n",
       "8     175\n",
       "4     163\n",
       "3      20\n",
       "9       5\n",
       "Name: quality, dtype: int64"
      ]
     },
     "execution_count": 6,
     "metadata": {},
     "output_type": "execute_result"
    }
   ],
   "source": [
    "y.value_counts()"
   ]
  },
  {
   "cell_type": "code",
   "execution_count": null,
   "metadata": {},
   "outputs": [],
   "source": []
  },
  {
   "cell_type": "code",
   "execution_count": 47,
   "metadata": {},
   "outputs": [],
   "source": [
    "for i in df.columns:\n",
    "    df[i] = df[i].fillna(np.mean(df[i]))\n",
    "train, test, y_train, y_test = train_test_split(df, y, test_size = 0.2, random_state=101 )"
   ]
  },
  {
   "cell_type": "code",
   "execution_count": 43,
   "metadata": {},
   "outputs": [
    {
     "name": "stdout",
     "output_type": "stream",
     "text": [
      "Accuracy score baseline: 0.5428571428571428\n"
     ]
    }
   ],
   "source": [
    "lr = LogisticRegression()\n",
    "lr.fit(train, y_train)\n",
    "y_pred = lr.predict(test)\n",
    "print('Accuracy score baseline:', accuracy_score(y_test, y_pred))"
   ]
  },
  {
   "cell_type": "code",
   "execution_count": 10,
   "metadata": {},
   "outputs": [],
   "source": [
    "def fit_predict(train, test, y_train, y_test, scaler, max_depth, \n",
    "                criterion = 'entropy', max_features = 1, min_samples_split = 4):\n",
    "    train_scaled = scaler.fit_transform(train)\n",
    "    test_scaled = scaler.transform(test)        \n",
    "    dt = DecisionTreeClassifier(criterion = criterion, max_depth=max_depth, \n",
    "                                random_state=42, max_features=max_features,\n",
    "                               min_samples_split=min_samples_split)\n",
    "    dt.fit(train_scaled, y_train)\n",
    "    y_pred = dt.predict(test_scaled)\n",
    "    print(accuracy_score(y_test, y_pred))"
   ]
  },
  {
   "cell_type": "code",
   "execution_count": 11,
   "metadata": {},
   "outputs": [
    {
     "name": "stdout",
     "output_type": "stream",
     "text": [
      "0.5989795918367347\n"
     ]
    }
   ],
   "source": [
    "dt = DecisionTreeClassifier()\n",
    "dt.fit(train, y_train)\n",
    "y_pred = dt.predict(test)\n",
    "print(accuracy_score(y_test, y_pred))"
   ]
  },
  {
   "cell_type": "markdown",
   "metadata": {},
   "source": [
    "### Max depth tuning"
   ]
  },
  {
   "cell_type": "code",
   "execution_count": 12,
   "metadata": {},
   "outputs": [
    {
     "name": "stdout",
     "output_type": "stream",
     "text": [
      "Accuracy score using max_depth = 1: 0.44081632653061226\n",
      "Accuracy score using max_depth = 2: 0.44081632653061226\n",
      "Accuracy score using max_depth = 3: 0.4530612244897959\n",
      "Accuracy score using max_depth = 4: 0.4602040816326531\n",
      "Accuracy score using max_depth = 5: 0.48673469387755103\n",
      "Accuracy score using max_depth = 6: 0.45918367346938777\n",
      "Accuracy score using max_depth = 7: 0.49795918367346936\n",
      "Accuracy score using max_depth = 8: 0.503061224489796\n",
      "Accuracy score using max_depth = 9: 0.5183673469387755\n",
      "Accuracy score using max_depth = 10: 0.4969387755102041\n",
      "Accuracy score using max_depth = 11: 0.5142857142857142\n",
      "Accuracy score using max_depth = 12: 0.49183673469387756\n",
      "Accuracy score using max_depth = 13: 0.576530612244898\n",
      "Accuracy score using max_depth = 14: 0.5714285714285714\n",
      "Accuracy score using max_depth = 15: 0.5336734693877551\n",
      "Accuracy score using max_depth = 16: 0.5489795918367347\n",
      "Accuracy score using max_depth = 17: 0.5520408163265306\n",
      "Accuracy score using max_depth = 18: 0.5775510204081633\n",
      "Accuracy score using max_depth = 19: 0.5612244897959183\n"
     ]
    }
   ],
   "source": [
    "for i in range(1, 20):\n",
    "    print('Accuracy score using max_depth =', i, end = ': ')\n",
    "    fit_predict(train, test, y_train, y_test, StandardScaler(), i)"
   ]
  },
  {
   "cell_type": "markdown",
   "metadata": {},
   "source": [
    "### Max features tuning"
   ]
  },
  {
   "cell_type": "code",
   "execution_count": 13,
   "metadata": {},
   "outputs": [
    {
     "name": "stdout",
     "output_type": "stream",
     "text": [
      "Accuracy score using max features = 0.1: 0.5775510204081633\n",
      "Accuracy score using max features = 0.2: 0.6112244897959184\n",
      "Accuracy score using max features = 0.30000000000000004: 0.6071428571428571\n",
      "Accuracy score using max features = 0.4: 0.5959183673469388\n",
      "Accuracy score using max features = 0.5: 0.6030612244897959\n",
      "Accuracy score using max features = 0.6: 0.5826530612244898\n",
      "Accuracy score using max features = 0.7000000000000001: 0.6020408163265306\n",
      "Accuracy score using max features = 0.8: 0.5724489795918367\n",
      "Accuracy score using max features = 0.9: 0.573469387755102\n"
     ]
    }
   ],
   "source": [
    "for i in np.arange(0.1, 1.0, 0.1):\n",
    "    print('Accuracy score using max features =', i, end = ': ')\n",
    "    fit_predict(train, test, y_train, y_test, StandardScaler(), max_depth = 18, max_features=i)"
   ]
  },
  {
   "cell_type": "markdown",
   "metadata": {},
   "source": [
    "### Min samples split tuning"
   ]
  },
  {
   "cell_type": "code",
   "execution_count": 14,
   "metadata": {
    "scrolled": true
   },
   "outputs": [
    {
     "name": "stdout",
     "output_type": "stream",
     "text": [
      "Accuracy score using min samples split = 2: 0.6153061224489796\n",
      "Accuracy score using min samples split = 3: 0.5928571428571429\n",
      "Accuracy score using min samples split = 4: 0.6071428571428571\n",
      "Accuracy score using min samples split = 5: 0.5612244897959183\n",
      "Accuracy score using min samples split = 6: 0.5795918367346938\n",
      "Accuracy score using min samples split = 7: 0.563265306122449\n",
      "Accuracy score using min samples split = 8: 0.5938775510204082\n",
      "Accuracy score using min samples split = 9: 0.5540816326530612\n"
     ]
    }
   ],
   "source": [
    "for i in range(2, 10):\n",
    "    print('Accuracy score using min samples split =', i, end = ': ')\n",
    "    fit_predict(train, test, y_train, y_test, StandardScaler(), 18, max_features=0.3, min_samples_split=i)"
   ]
  },
  {
   "cell_type": "markdown",
   "metadata": {},
   "source": [
    "### Criterion tuning"
   ]
  },
  {
   "cell_type": "code",
   "execution_count": 15,
   "metadata": {},
   "outputs": [
    {
     "name": "stdout",
     "output_type": "stream",
     "text": [
      "Accuracy score using criterion = gini: 0.6122448979591837\n",
      "Accuracy score using criterion = entropy: 0.6153061224489796\n"
     ]
    }
   ],
   "source": [
    "for i in ['gini', 'entropy']:\n",
    "    print('Accuracy score using criterion =', i, end = ': ')\n",
    "    fit_predict(train, test, y_train, y_test, StandardScaler(), 18, \n",
    "                max_features=0.3, min_samples_split=2, criterion = i)"
   ]
  },
  {
   "cell_type": "code",
   "execution_count": 16,
   "metadata": {},
   "outputs": [],
   "source": [
    "def create_poly(train,test,degree):\n",
    "    poly = PolynomialFeatures(degree=degree)\n",
    "    train_poly = poly.fit_transform(train)\n",
    "    test_poly = poly.fit_transform(test)\n",
    "    return train_poly,test_poly"
   ]
  },
  {
   "cell_type": "code",
   "execution_count": 17,
   "metadata": {
    "scrolled": true
   },
   "outputs": [
    {
     "name": "stdout",
     "output_type": "stream",
     "text": [
      "Polynomial degree 1\n",
      "0.6061224489795919\n",
      "----------\n",
      "Polynomial degree 2\n",
      "0.6265306122448979\n",
      "----------\n",
      "Polynomial degree 3\n",
      "0.6255102040816326\n",
      "----------\n",
      "Polynomial degree 4\n",
      "0.6091836734693877\n",
      "----------\n"
     ]
    }
   ],
   "source": [
    "for degree in [1,2,3,4]:\n",
    "    train_poly, test_poly = create_poly(train, test, degree)\n",
    "    print('Polynomial degree',degree)\n",
    "    fit_predict(train_poly, test_poly, y_train, y_test, StandardScaler(), 18, \n",
    "                max_features=0.3, min_samples_split=2, criterion = 'entropy')\n",
    "    print(10*'-')\n",
    "    \n",
    "train_poly, test_poly = create_poly(train, test, 2) "
   ]
  },
  {
   "cell_type": "code",
   "execution_count": 67,
   "metadata": {},
   "outputs": [
    {
     "ename": "ImportError",
     "evalue": "cannot import name 'export_text'",
     "output_type": "error",
     "traceback": [
      "\u001b[1;31m---------------------------------------------------------------------------\u001b[0m",
      "\u001b[1;31mImportError\u001b[0m                               Traceback (most recent call last)",
      "\u001b[1;32m<ipython-input-67-4bf54df11e37>\u001b[0m in \u001b[0;36m<module>\u001b[1;34m()\u001b[0m\n\u001b[1;32m----> 1\u001b[1;33m \u001b[1;32mfrom\u001b[0m \u001b[0msklearn\u001b[0m\u001b[1;33m.\u001b[0m\u001b[0mtree\u001b[0m \u001b[1;32mimport\u001b[0m \u001b[0mexport_text\u001b[0m\u001b[1;33m\u001b[0m\u001b[0m\n\u001b[0m",
      "\u001b[1;31mImportError\u001b[0m: cannot import name 'export_text'"
     ]
    }
   ],
   "source": [
    "from sklearn.tree import export_text"
   ]
  },
  {
   "cell_type": "code",
   "execution_count": 18,
   "metadata": {
    "scrolled": true
   },
   "outputs": [
    {
     "name": "stdout",
     "output_type": "stream",
     "text": [
      "Additional feature engineering:\n",
      "0.5938775510204082\n",
      "0.6173469387755102\n"
     ]
    }
   ],
   "source": [
    "def feat_eng(df):\n",
    "    df['eng1'] = df['fixed acidity'] * df['pH']\n",
    "    df['eng2'] = df['total sulfur dioxide'] / df['free sulfur dioxide']\n",
    "    df['eng3'] = df['sulphates'] / df['chlorides']\n",
    "    df['eng4'] = df['chlorides'] / df['sulphates']\n",
    "    return df\n",
    "\n",
    "train = feat_eng(train)\n",
    "test = feat_eng(test)\n",
    "\n",
    "print('Additional feature engineering:')\n",
    "\n",
    "fit_predict(train, test, y_train, y_test, StandardScaler(), 18, \n",
    "                max_features=0.3, min_samples_split=2, criterion = 'entropy')\n",
    "\n",
    "train_poly, test_poly = create_poly(train, test, 2)\n",
    "\n",
    "fit_predict(train_poly, test_poly, y_train, y_test, StandardScaler(), 18, \n",
    "                max_features=0.3, min_samples_split=2, criterion = 'entropy')\n"
   ]
  },
  {
   "cell_type": "code",
   "execution_count": 63,
   "metadata": {},
   "outputs": [],
   "source": [
    "train = feat_eng(df)"
   ]
  },
  {
   "cell_type": "code",
   "execution_count": 64,
   "metadata": {},
   "outputs": [
    {
     "data": {
      "text/plain": [
       "Index(['fixed acidity', 'volatile acidity', 'citric acid', 'residual sugar',\n",
       "       'chlorides', 'free sulfur dioxide', 'total sulfur dioxide', 'density',\n",
       "       'pH', 'sulphates', 'alcohol', 'eng1', 'eng2', 'eng3', 'eng4'],\n",
       "      dtype='object')"
      ]
     },
     "execution_count": 64,
     "metadata": {},
     "output_type": "execute_result"
    }
   ],
   "source": [
    "train.columns"
   ]
  },
  {
   "cell_type": "code",
   "execution_count": 19,
   "metadata": {},
   "outputs": [
    {
     "name": "stdout",
     "output_type": "stream",
     "text": [
      "overall improvement is 21.63 %\n"
     ]
    }
   ],
   "source": [
    "original_score = 0.514285714286\n",
    "best_score = 0.625510204082\n",
    "improvement = np.abs(np.round(100*(original_score - best_score)/original_score,2))\n",
    "print('overall improvement is {} %'.format(improvement))"
   ]
  },
  {
   "cell_type": "code",
   "execution_count": 48,
   "metadata": {},
   "outputs": [],
   "source": [
    "from sklearn.ensemble import RandomForestClassifier"
   ]
  },
  {
   "cell_type": "code",
   "execution_count": 49,
   "metadata": {},
   "outputs": [],
   "source": [
    "rf = RandomForestClassifier(criterion='gini')"
   ]
  },
  {
   "cell_type": "code",
   "execution_count": 50,
   "metadata": {
    "scrolled": true
   },
   "outputs": [
    {
     "data": {
      "text/plain": [
       "RandomForestClassifier(bootstrap=True, class_weight=None, criterion='gini',\n",
       "            max_depth=None, max_features='auto', max_leaf_nodes=None,\n",
       "            min_impurity_decrease=0.0, min_impurity_split=None,\n",
       "            min_samples_leaf=1, min_samples_split=2,\n",
       "            min_weight_fraction_leaf=0.0, n_estimators=10, n_jobs=None,\n",
       "            oob_score=False, random_state=None, verbose=0,\n",
       "            warm_start=False)"
      ]
     },
     "execution_count": 50,
     "metadata": {},
     "output_type": "execute_result"
    }
   ],
   "source": [
    "rf.fit(train,y_train)"
   ]
  },
  {
   "cell_type": "code",
   "execution_count": 51,
   "metadata": {},
   "outputs": [],
   "source": [
    "pred_rf = rf.predict(test)"
   ]
  },
  {
   "cell_type": "code",
   "execution_count": 52,
   "metadata": {
    "scrolled": false
   },
   "outputs": [
    {
     "name": "stdout",
     "output_type": "stream",
     "text": [
      "0.6306122448979592\n"
     ]
    }
   ],
   "source": [
    "from sklearn.metrics import accuracy_score\n",
    "print(accuracy_score(y_test,pred_rf))"
   ]
  },
  {
   "cell_type": "code",
   "execution_count": 54,
   "metadata": {},
   "outputs": [],
   "source": [
    "from sklearn.model_selection import cross_val_score"
   ]
  },
  {
   "cell_type": "code",
   "execution_count": 55,
   "metadata": {},
   "outputs": [],
   "source": [
    "cross_val_accuracy = cross_val_score(rf, df, y, scoring='accuracy', cv=10)"
   ]
  },
  {
   "cell_type": "code",
   "execution_count": 56,
   "metadata": {
    "scrolled": true
   },
   "outputs": [
    {
     "data": {
      "text/plain": [
       "array([0.44918699, 0.48577236, 0.41869919, 0.46843177, 0.47454175,\n",
       "       0.5603272 , 0.47034765, 0.54303279, 0.52772074, 0.46201232])"
      ]
     },
     "execution_count": 56,
     "metadata": {},
     "output_type": "execute_result"
    }
   ],
   "source": [
    "cross_val_accuracy"
   ]
  },
  {
   "cell_type": "code",
   "execution_count": 58,
   "metadata": {},
   "outputs": [],
   "source": [
    "from sklearn.metrics import confusion_matrix, classification_report"
   ]
  },
  {
   "cell_type": "code",
   "execution_count": 60,
   "metadata": {
    "scrolled": true
   },
   "outputs": [
    {
     "name": "stdout",
     "output_type": "stream",
     "text": [
      "[[  0   0   3   2   0   0]\n",
      " [  0   7  19  14   0   1]\n",
      " [  0   5 215  81   5   0]\n",
      " [  0   2  85 292  51   3]\n",
      " [  0   1   6  61  87   3]\n",
      " [  0   0   1  10   9  17]]\n"
     ]
    }
   ],
   "source": [
    "print(confusion_matrix(y_test,pred_rf))"
   ]
  },
  {
   "cell_type": "code",
   "execution_count": 61,
   "metadata": {},
   "outputs": [
    {
     "name": "stdout",
     "output_type": "stream",
     "text": [
      "              precision    recall  f1-score   support\n",
      "\n",
      "           3       0.00      0.00      0.00         5\n",
      "           4       0.47      0.17      0.25        41\n",
      "           5       0.65      0.70      0.68       306\n",
      "           6       0.63      0.67      0.65       433\n",
      "           7       0.57      0.55      0.56       158\n",
      "           8       0.71      0.46      0.56        37\n",
      "\n",
      "   micro avg       0.63      0.63      0.63       980\n",
      "   macro avg       0.51      0.43      0.45       980\n",
      "weighted avg       0.62      0.63      0.62       980\n",
      "\n"
     ]
    }
   ],
   "source": [
    "print(classification_report(y_test,pred_rf))"
   ]
  },
  {
   "cell_type": "code",
   "execution_count": 57,
   "metadata": {},
   "outputs": [
    {
     "data": {
      "text/plain": [
       "0.48600727530662213"
      ]
     },
     "execution_count": 57,
     "metadata": {},
     "output_type": "execute_result"
    }
   ],
   "source": [
    "cross_val_accuracy.mean()"
   ]
  },
  {
   "cell_type": "code",
   "execution_count": 25,
   "metadata": {},
   "outputs": [],
   "source": [
    "from sklearn.model_selection import GridSearchCV"
   ]
  },
  {
   "cell_type": "code",
   "execution_count": 26,
   "metadata": {},
   "outputs": [],
   "source": [
    "params = {'n_estimators':[200,500,700],'max_depth':[10,15,18,20],\n",
    "         'min_samples_leaf':[3,5,7]}"
   ]
  },
  {
   "cell_type": "code",
   "execution_count": 27,
   "metadata": {},
   "outputs": [],
   "source": [
    "gs = GridSearchCV(rf,params,verbose=3)"
   ]
  },
  {
   "cell_type": "code",
   "execution_count": 28,
   "metadata": {
    "scrolled": false
   },
   "outputs": [
    {
     "name": "stdout",
     "output_type": "stream",
     "text": [
      "Fitting 3 folds for each of 36 candidates, totalling 108 fits\n",
      "[CV] max_depth=10, min_samples_leaf=3, n_estimators=200 ..............\n"
     ]
    },
    {
     "name": "stderr",
     "output_type": "stream",
     "text": [
      "[Parallel(n_jobs=1)]: Using backend SequentialBackend with 1 concurrent workers.\n"
     ]
    },
    {
     "name": "stdout",
     "output_type": "stream",
     "text": [
      "[CV]  max_depth=10, min_samples_leaf=3, n_estimators=200, score=0.617737003058104, total=   1.6s\n",
      "[CV] max_depth=10, min_samples_leaf=3, n_estimators=200 ..............\n"
     ]
    },
    {
     "name": "stderr",
     "output_type": "stream",
     "text": [
      "[Parallel(n_jobs=1)]: Done   1 out of   1 | elapsed:    1.8s remaining:    0.0s\n"
     ]
    },
    {
     "name": "stdout",
     "output_type": "stream",
     "text": [
      "[CV]  max_depth=10, min_samples_leaf=3, n_estimators=200, score=0.6090283091048202, total=   1.6s\n",
      "[CV] max_depth=10, min_samples_leaf=3, n_estimators=200 ..............\n"
     ]
    },
    {
     "name": "stderr",
     "output_type": "stream",
     "text": [
      "[Parallel(n_jobs=1)]: Done   2 out of   2 | elapsed:    3.6s remaining:    0.0s\n"
     ]
    },
    {
     "name": "stdout",
     "output_type": "stream",
     "text": [
      "[CV]  max_depth=10, min_samples_leaf=3, n_estimators=200, score=0.6062931696085956, total=   1.6s\n",
      "[CV] max_depth=10, min_samples_leaf=3, n_estimators=500 ..............\n",
      "[CV]  max_depth=10, min_samples_leaf=3, n_estimators=500, score=0.6146788990825688, total=   4.1s\n",
      "[CV] max_depth=10, min_samples_leaf=3, n_estimators=500 ..............\n",
      "[CV]  max_depth=10, min_samples_leaf=3, n_estimators=500, score=0.6105585309869931, total=   4.1s\n",
      "[CV] max_depth=10, min_samples_leaf=3, n_estimators=500 ..............\n",
      "[CV]  max_depth=10, min_samples_leaf=3, n_estimators=500, score=0.6047582501918649, total=   4.1s\n",
      "[CV] max_depth=10, min_samples_leaf=3, n_estimators=700 ..............\n",
      "[CV]  max_depth=10, min_samples_leaf=3, n_estimators=700, score=0.6131498470948012, total=   5.8s\n",
      "[CV] max_depth=10, min_samples_leaf=3, n_estimators=700 ..............\n",
      "[CV]  max_depth=10, min_samples_leaf=3, n_estimators=700, score=0.6159143075745983, total=   5.8s\n",
      "[CV] max_depth=10, min_samples_leaf=3, n_estimators=700 ..............\n",
      "[CV]  max_depth=10, min_samples_leaf=3, n_estimators=700, score=0.6001534919416731, total=   5.7s\n",
      "[CV] max_depth=10, min_samples_leaf=5, n_estimators=200 ..............\n",
      "[CV]  max_depth=10, min_samples_leaf=5, n_estimators=200, score=0.6093272171253823, total=   1.6s\n",
      "[CV] max_depth=10, min_samples_leaf=5, n_estimators=200 ..............\n",
      "[CV]  max_depth=10, min_samples_leaf=5, n_estimators=200, score=0.6212700841622035, total=   1.6s\n",
      "[CV] max_depth=10, min_samples_leaf=5, n_estimators=200 ..............\n",
      "[CV]  max_depth=10, min_samples_leaf=5, n_estimators=200, score=0.5963161933998465, total=   1.7s\n",
      "[CV] max_depth=10, min_samples_leaf=5, n_estimators=500 ..............\n",
      "[CV]  max_depth=10, min_samples_leaf=5, n_estimators=500, score=0.6085626911314985, total=   3.9s\n",
      "[CV] max_depth=10, min_samples_leaf=5, n_estimators=500 ..............\n",
      "[CV]  max_depth=10, min_samples_leaf=5, n_estimators=500, score=0.6105585309869931, total=   3.9s\n",
      "[CV] max_depth=10, min_samples_leaf=5, n_estimators=500 ..............\n",
      "[CV]  max_depth=10, min_samples_leaf=5, n_estimators=500, score=0.5947812739831159, total=   3.9s\n",
      "[CV] max_depth=10, min_samples_leaf=5, n_estimators=700 ..............\n",
      "[CV]  max_depth=10, min_samples_leaf=5, n_estimators=700, score=0.6070336391437309, total=   5.5s\n",
      "[CV] max_depth=10, min_samples_leaf=5, n_estimators=700 ..............\n",
      "[CV]  max_depth=10, min_samples_leaf=5, n_estimators=700, score=0.6090283091048202, total=   5.5s\n",
      "[CV] max_depth=10, min_samples_leaf=5, n_estimators=700 ..............\n",
      "[CV]  max_depth=10, min_samples_leaf=5, n_estimators=700, score=0.6001534919416731, total=   5.5s\n",
      "[CV] max_depth=10, min_samples_leaf=7, n_estimators=200 ..............\n",
      "[CV]  max_depth=10, min_samples_leaf=7, n_estimators=200, score=0.6024464831804281, total=   1.4s\n",
      "[CV] max_depth=10, min_samples_leaf=7, n_estimators=200 ..............\n",
      "[CV]  max_depth=10, min_samples_leaf=7, n_estimators=200, score=0.6006120887528692, total=   1.4s\n",
      "[CV] max_depth=10, min_samples_leaf=7, n_estimators=200 ..............\n",
      "[CV]  max_depth=10, min_samples_leaf=7, n_estimators=200, score=0.5901765157329241, total=   1.4s\n",
      "[CV] max_depth=10, min_samples_leaf=7, n_estimators=500 ..............\n",
      "[CV]  max_depth=10, min_samples_leaf=7, n_estimators=500, score=0.6047400611620795, total=   3.8s\n",
      "[CV] max_depth=10, min_samples_leaf=7, n_estimators=500 ..............\n",
      "[CV]  max_depth=10, min_samples_leaf=7, n_estimators=500, score=0.6052027543993879, total=   3.8s\n",
      "[CV] max_depth=10, min_samples_leaf=7, n_estimators=500 ..............\n",
      "[CV]  max_depth=10, min_samples_leaf=7, n_estimators=500, score=0.5947812739831159, total=   3.8s\n",
      "[CV] max_depth=10, min_samples_leaf=7, n_estimators=700 ..............\n",
      "[CV]  max_depth=10, min_samples_leaf=7, n_estimators=700, score=0.6070336391437309, total=   5.3s\n",
      "[CV] max_depth=10, min_samples_leaf=7, n_estimators=700 ..............\n",
      "[CV]  max_depth=10, min_samples_leaf=7, n_estimators=700, score=0.6044376434583014, total=   5.4s\n",
      "[CV] max_depth=10, min_samples_leaf=7, n_estimators=700 ..............\n",
      "[CV]  max_depth=10, min_samples_leaf=7, n_estimators=700, score=0.5955487336914812, total=   5.4s\n",
      "[CV] max_depth=15, min_samples_leaf=3, n_estimators=200 ..............\n",
      "[CV]  max_depth=15, min_samples_leaf=3, n_estimators=200, score=0.6345565749235474, total=   1.9s\n",
      "[CV] max_depth=15, min_samples_leaf=3, n_estimators=200 ..............\n",
      "[CV]  max_depth=15, min_samples_leaf=3, n_estimators=200, score=0.6289211935730681, total=   1.9s\n",
      "[CV] max_depth=15, min_samples_leaf=3, n_estimators=200 ..............\n",
      "[CV]  max_depth=15, min_samples_leaf=3, n_estimators=200, score=0.6178050652340752, total=   1.8s\n",
      "[CV] max_depth=15, min_samples_leaf=3, n_estimators=500 ..............\n",
      "[CV]  max_depth=15, min_samples_leaf=3, n_estimators=500, score=0.6376146788990825, total=   4.8s\n",
      "[CV] max_depth=15, min_samples_leaf=3, n_estimators=500 ..............\n",
      "[CV]  max_depth=15, min_samples_leaf=3, n_estimators=500, score=0.6281560826319816, total=   4.7s\n",
      "[CV] max_depth=15, min_samples_leaf=3, n_estimators=500 ..............\n",
      "[CV]  max_depth=15, min_samples_leaf=3, n_estimators=500, score=0.6239447429009977, total=   4.8s\n",
      "[CV] max_depth=15, min_samples_leaf=3, n_estimators=700 ..............\n",
      "[CV]  max_depth=15, min_samples_leaf=3, n_estimators=700, score=0.636085626911315, total=   6.8s\n",
      "[CV] max_depth=15, min_samples_leaf=3, n_estimators=700 ..............\n",
      "[CV]  max_depth=15, min_samples_leaf=3, n_estimators=700, score=0.6312165263963274, total=   6.8s\n",
      "[CV] max_depth=15, min_samples_leaf=3, n_estimators=700 ..............\n",
      "[CV]  max_depth=15, min_samples_leaf=3, n_estimators=700, score=0.6208749040675364, total=   6.8s\n",
      "[CV] max_depth=15, min_samples_leaf=5, n_estimators=200 ..............\n",
      "[CV]  max_depth=15, min_samples_leaf=5, n_estimators=200, score=0.6185015290519877, total=   1.7s\n",
      "[CV] max_depth=15, min_samples_leaf=5, n_estimators=200 ..............\n",
      "[CV]  max_depth=15, min_samples_leaf=5, n_estimators=200, score=0.6182096403978576, total=   1.6s\n",
      "[CV] max_depth=15, min_samples_leaf=5, n_estimators=200 ..............\n",
      "[CV]  max_depth=15, min_samples_leaf=5, n_estimators=200, score=0.6162701458173446, total=   1.7s\n",
      "[CV] max_depth=15, min_samples_leaf=5, n_estimators=500 ..............\n",
      "[CV]  max_depth=15, min_samples_leaf=5, n_estimators=500, score=0.6230886850152905, total=   4.4s\n",
      "[CV] max_depth=15, min_samples_leaf=5, n_estimators=500 ..............\n",
      "[CV]  max_depth=15, min_samples_leaf=5, n_estimators=500, score=0.6174445294567712, total=   4.3s\n",
      "[CV] max_depth=15, min_samples_leaf=5, n_estimators=500 ..............\n",
      "[CV]  max_depth=15, min_samples_leaf=5, n_estimators=500, score=0.6093630084420568, total=   4.3s\n",
      "[CV] max_depth=15, min_samples_leaf=5, n_estimators=700 ..............\n",
      "[CV]  max_depth=15, min_samples_leaf=5, n_estimators=700, score=0.6230886850152905, total=   6.1s\n",
      "[CV] max_depth=15, min_samples_leaf=5, n_estimators=700 ..............\n",
      "[CV]  max_depth=15, min_samples_leaf=5, n_estimators=700, score=0.62203519510329, total=   6.0s\n",
      "[CV] max_depth=15, min_samples_leaf=5, n_estimators=700 ..............\n",
      "[CV]  max_depth=15, min_samples_leaf=5, n_estimators=700, score=0.614735226400614, total=   6.0s\n",
      "[CV] max_depth=15, min_samples_leaf=7, n_estimators=200 ..............\n",
      "[CV]  max_depth=15, min_samples_leaf=7, n_estimators=200, score=0.6108562691131498, total=   1.5s\n",
      "[CV] max_depth=15, min_samples_leaf=7, n_estimators=200 ..............\n",
      "[CV]  max_depth=15, min_samples_leaf=7, n_estimators=200, score=0.6128538638102525, total=   1.5s\n",
      "[CV] max_depth=15, min_samples_leaf=7, n_estimators=200 ..............\n",
      "[CV]  max_depth=15, min_samples_leaf=7, n_estimators=200, score=0.59247889485802, total=   1.6s\n",
      "[CV] max_depth=15, min_samples_leaf=7, n_estimators=500 ..............\n",
      "[CV]  max_depth=15, min_samples_leaf=7, n_estimators=500, score=0.6123853211009175, total=   4.0s\n",
      "[CV] max_depth=15, min_samples_leaf=7, n_estimators=500 ..............\n",
      "[CV]  max_depth=15, min_samples_leaf=7, n_estimators=500, score=0.6082631981637338, total=   4.1s\n",
      "[CV] max_depth=15, min_samples_leaf=7, n_estimators=500 ..............\n",
      "[CV]  max_depth=15, min_samples_leaf=7, n_estimators=500, score=0.5932463545663853, total=   4.0s\n",
      "[CV] max_depth=15, min_samples_leaf=7, n_estimators=700 ..............\n"
     ]
    },
    {
     "name": "stdout",
     "output_type": "stream",
     "text": [
      "[CV]  max_depth=15, min_samples_leaf=7, n_estimators=700, score=0.6123853211009175, total=   5.7s\n",
      "[CV] max_depth=15, min_samples_leaf=7, n_estimators=700 ..............\n",
      "[CV]  max_depth=15, min_samples_leaf=7, n_estimators=700, score=0.6113236419280795, total=   5.6s\n",
      "[CV] max_depth=15, min_samples_leaf=7, n_estimators=700 ..............\n",
      "[CV]  max_depth=15, min_samples_leaf=7, n_estimators=700, score=0.6001534919416731, total=   5.7s\n",
      "[CV] max_depth=18, min_samples_leaf=3, n_estimators=200 ..............\n",
      "[CV]  max_depth=18, min_samples_leaf=3, n_estimators=200, score=0.6444954128440367, total=   1.9s\n",
      "[CV] max_depth=18, min_samples_leaf=3, n_estimators=200 ..............\n",
      "[CV]  max_depth=18, min_samples_leaf=3, n_estimators=200, score=0.6296863045141545, total=   1.8s\n",
      "[CV] max_depth=18, min_samples_leaf=3, n_estimators=200 ..............\n",
      "[CV]  max_depth=18, min_samples_leaf=3, n_estimators=200, score=0.6201074443591711, total=   1.8s\n",
      "[CV] max_depth=18, min_samples_leaf=3, n_estimators=500 ..............\n",
      "[CV]  max_depth=18, min_samples_leaf=3, n_estimators=500, score=0.6399082568807339, total=   4.8s\n",
      "[CV] max_depth=18, min_samples_leaf=3, n_estimators=500 ..............\n",
      "[CV]  max_depth=18, min_samples_leaf=3, n_estimators=500, score=0.6342769701606733, total=   4.8s\n",
      "[CV] max_depth=18, min_samples_leaf=3, n_estimators=500 ..............\n",
      "[CV]  max_depth=18, min_samples_leaf=3, n_estimators=500, score=0.6285495011511896, total=   4.8s\n",
      "[CV] max_depth=18, min_samples_leaf=3, n_estimators=700 ..............\n",
      "[CV]  max_depth=18, min_samples_leaf=3, n_estimators=700, score=0.6422018348623854, total=   6.8s\n",
      "[CV] max_depth=18, min_samples_leaf=3, n_estimators=700 ..............\n",
      "[CV]  max_depth=18, min_samples_leaf=3, n_estimators=700, score=0.6342769701606733, total=   6.8s\n",
      "[CV] max_depth=18, min_samples_leaf=3, n_estimators=700 ..............\n",
      "[CV]  max_depth=18, min_samples_leaf=3, n_estimators=700, score=0.6155026861089793, total=   6.8s\n",
      "[CV] max_depth=18, min_samples_leaf=5, n_estimators=200 ..............\n",
      "[CV]  max_depth=18, min_samples_leaf=5, n_estimators=200, score=0.6246177370030581, total=   1.7s\n",
      "[CV] max_depth=18, min_samples_leaf=5, n_estimators=200 ..............\n",
      "[CV]  max_depth=18, min_samples_leaf=5, n_estimators=200, score=0.6151491966335119, total=   1.6s\n",
      "[CV] max_depth=18, min_samples_leaf=5, n_estimators=200 ..............\n",
      "[CV]  max_depth=18, min_samples_leaf=5, n_estimators=200, score=0.6085955487336915, total=   1.7s\n",
      "[CV] max_depth=18, min_samples_leaf=5, n_estimators=500 ..............\n",
      "[CV]  max_depth=18, min_samples_leaf=5, n_estimators=500, score=0.6307339449541285, total=   4.3s\n",
      "[CV] max_depth=18, min_samples_leaf=5, n_estimators=500 ..............\n",
      "[CV]  max_depth=18, min_samples_leaf=5, n_estimators=500, score=0.613618974751339, total=   4.3s\n",
      "[CV] max_depth=18, min_samples_leaf=5, n_estimators=500 ..............\n",
      "[CV]  max_depth=18, min_samples_leaf=5, n_estimators=500, score=0.6108979278587874, total=   4.3s\n",
      "[CV] max_depth=18, min_samples_leaf=5, n_estimators=700 ..............\n",
      "[CV]  max_depth=18, min_samples_leaf=5, n_estimators=700, score=0.6230886850152905, total=   6.1s\n",
      "[CV] max_depth=18, min_samples_leaf=5, n_estimators=700 ..............\n",
      "[CV]  max_depth=18, min_samples_leaf=5, n_estimators=700, score=0.6205049732211171, total=   6.1s\n",
      "[CV] max_depth=18, min_samples_leaf=5, n_estimators=700 ..............\n",
      "[CV]  max_depth=18, min_samples_leaf=5, n_estimators=700, score=0.6162701458173446, total=   6.1s\n",
      "[CV] max_depth=18, min_samples_leaf=7, n_estimators=200 ..............\n",
      "[CV]  max_depth=18, min_samples_leaf=7, n_estimators=200, score=0.6131498470948012, total=   1.6s\n",
      "[CV] max_depth=18, min_samples_leaf=7, n_estimators=200 ..............\n",
      "[CV]  max_depth=18, min_samples_leaf=7, n_estimators=200, score=0.6128538638102525, total=   1.5s\n",
      "[CV] max_depth=18, min_samples_leaf=7, n_estimators=200 ..............\n",
      "[CV]  max_depth=18, min_samples_leaf=7, n_estimators=200, score=0.6009209516500383, total=   1.6s\n",
      "[CV] max_depth=18, min_samples_leaf=7, n_estimators=500 ..............\n",
      "[CV]  max_depth=18, min_samples_leaf=7, n_estimators=500, score=0.6154434250764526, total=   4.0s\n",
      "[CV] max_depth=18, min_samples_leaf=7, n_estimators=500 ..............\n",
      "[CV]  max_depth=18, min_samples_leaf=7, n_estimators=500, score=0.6113236419280795, total=   4.1s\n",
      "[CV] max_depth=18, min_samples_leaf=7, n_estimators=500 ..............\n",
      "[CV]  max_depth=18, min_samples_leaf=7, n_estimators=500, score=0.6062931696085956, total=   4.1s\n",
      "[CV] max_depth=18, min_samples_leaf=7, n_estimators=700 ..............\n",
      "[CV]  max_depth=18, min_samples_leaf=7, n_estimators=700, score=0.6108562691131498, total=   5.7s\n",
      "[CV] max_depth=18, min_samples_leaf=7, n_estimators=700 ..............\n",
      "[CV]  max_depth=18, min_samples_leaf=7, n_estimators=700, score=0.612088752869166, total=   6.2s\n",
      "[CV] max_depth=18, min_samples_leaf=7, n_estimators=700 ..............\n",
      "[CV]  max_depth=18, min_samples_leaf=7, n_estimators=700, score=0.6032233307751343, total=   5.7s\n",
      "[CV] max_depth=20, min_samples_leaf=3, n_estimators=200 ..............\n",
      "[CV]  max_depth=20, min_samples_leaf=3, n_estimators=200, score=0.6422018348623854, total=   1.9s\n",
      "[CV] max_depth=20, min_samples_leaf=3, n_estimators=200 ..............\n",
      "[CV]  max_depth=20, min_samples_leaf=3, n_estimators=200, score=0.631981637337414, total=   1.8s\n",
      "[CV] max_depth=20, min_samples_leaf=3, n_estimators=200 ..............\n",
      "[CV]  max_depth=20, min_samples_leaf=3, n_estimators=200, score=0.6178050652340752, total=   1.8s\n",
      "[CV] max_depth=20, min_samples_leaf=3, n_estimators=500 ..............\n",
      "[CV]  max_depth=20, min_samples_leaf=3, n_estimators=500, score=0.632262996941896, total=   4.8s\n",
      "[CV] max_depth=20, min_samples_leaf=3, n_estimators=500 ..............\n",
      "[CV]  max_depth=20, min_samples_leaf=3, n_estimators=500, score=0.6335118592195869, total=   4.7s\n",
      "[CV] max_depth=20, min_samples_leaf=3, n_estimators=500 ..............\n",
      "[CV]  max_depth=20, min_samples_leaf=3, n_estimators=500, score=0.6231772831926324, total=   5.0s\n",
      "[CV] max_depth=20, min_samples_leaf=3, n_estimators=700 ..............\n",
      "[CV]  max_depth=20, min_samples_leaf=3, n_estimators=700, score=0.6406727828746177, total=   6.8s\n",
      "[CV] max_depth=20, min_samples_leaf=3, n_estimators=700 ..............\n",
      "[CV]  max_depth=20, min_samples_leaf=3, n_estimators=700, score=0.6358071920428462, total=   6.7s\n",
      "[CV] max_depth=20, min_samples_leaf=3, n_estimators=700 ..............\n",
      "[CV]  max_depth=20, min_samples_leaf=3, n_estimators=700, score=0.6216423637759018, total=   6.8s\n",
      "[CV] max_depth=20, min_samples_leaf=5, n_estimators=200 ..............\n",
      "[CV]  max_depth=20, min_samples_leaf=5, n_estimators=200, score=0.6261467889908257, total=   1.7s\n",
      "[CV] max_depth=20, min_samples_leaf=5, n_estimators=200 ..............\n",
      "[CV]  max_depth=20, min_samples_leaf=5, n_estimators=200, score=0.6197398622800306, total=   1.7s\n",
      "[CV] max_depth=20, min_samples_leaf=5, n_estimators=200 ..............\n",
      "[CV]  max_depth=20, min_samples_leaf=5, n_estimators=200, score=0.6170376055257099, total=   1.6s\n",
      "[CV] max_depth=20, min_samples_leaf=5, n_estimators=500 ..............\n",
      "[CV]  max_depth=20, min_samples_leaf=5, n_estimators=500, score=0.6261467889908257, total=   4.3s\n",
      "[CV] max_depth=20, min_samples_leaf=5, n_estimators=500 ..............\n",
      "[CV]  max_depth=20, min_samples_leaf=5, n_estimators=500, score=0.6197398622800306, total=   4.3s\n",
      "[CV] max_depth=20, min_samples_leaf=5, n_estimators=500 ..............\n",
      "[CV]  max_depth=20, min_samples_leaf=5, n_estimators=500, score=0.6078280890253261, total=   4.3s\n",
      "[CV] max_depth=20, min_samples_leaf=5, n_estimators=700 ..............\n",
      "[CV]  max_depth=20, min_samples_leaf=5, n_estimators=700, score=0.6253822629969419, total=   6.1s\n",
      "[CV] max_depth=20, min_samples_leaf=5, n_estimators=700 ..............\n",
      "[CV]  max_depth=20, min_samples_leaf=5, n_estimators=700, score=0.6143840856924254, total=   6.0s\n",
      "[CV] max_depth=20, min_samples_leaf=5, n_estimators=700 ..............\n",
      "[CV]  max_depth=20, min_samples_leaf=5, n_estimators=700, score=0.6108979278587874, total=   6.1s\n",
      "[CV] max_depth=20, min_samples_leaf=7, n_estimators=200 ..............\n",
      "[CV]  max_depth=20, min_samples_leaf=7, n_estimators=200, score=0.613914373088685, total=   1.5s\n",
      "[CV] max_depth=20, min_samples_leaf=7, n_estimators=200 ..............\n"
     ]
    },
    {
     "name": "stdout",
     "output_type": "stream",
     "text": [
      "[CV]  max_depth=20, min_samples_leaf=7, n_estimators=200, score=0.6151491966335119, total=   1.5s\n",
      "[CV] max_depth=20, min_samples_leaf=7, n_estimators=200 ..............\n",
      "[CV]  max_depth=20, min_samples_leaf=7, n_estimators=200, score=0.6032233307751343, total=   1.6s\n",
      "[CV] max_depth=20, min_samples_leaf=7, n_estimators=500 ..............\n",
      "[CV]  max_depth=20, min_samples_leaf=7, n_estimators=500, score=0.6108562691131498, total=   4.1s\n",
      "[CV] max_depth=20, min_samples_leaf=7, n_estimators=500 ..............\n",
      "[CV]  max_depth=20, min_samples_leaf=7, n_estimators=500, score=0.6212700841622035, total=   4.1s\n",
      "[CV] max_depth=20, min_samples_leaf=7, n_estimators=500 ..............\n",
      "[CV]  max_depth=20, min_samples_leaf=7, n_estimators=500, score=0.6032233307751343, total=   4.1s\n",
      "[CV] max_depth=20, min_samples_leaf=7, n_estimators=700 ..............\n",
      "[CV]  max_depth=20, min_samples_leaf=7, n_estimators=700, score=0.6123853211009175, total=   5.7s\n",
      "[CV] max_depth=20, min_samples_leaf=7, n_estimators=700 ..............\n",
      "[CV]  max_depth=20, min_samples_leaf=7, n_estimators=700, score=0.6143840856924254, total=   5.6s\n",
      "[CV] max_depth=20, min_samples_leaf=7, n_estimators=700 ..............\n",
      "[CV]  max_depth=20, min_samples_leaf=7, n_estimators=700, score=0.6001534919416731, total=   5.7s\n"
     ]
    },
    {
     "name": "stderr",
     "output_type": "stream",
     "text": [
      "[Parallel(n_jobs=1)]: Done 108 out of 108 | elapsed:  8.2min finished\n"
     ]
    },
    {
     "data": {
      "text/plain": [
       "GridSearchCV(cv='warn', error_score='raise-deprecating',\n",
       "       estimator=RandomForestClassifier(bootstrap=True, class_weight=None, criterion='gini',\n",
       "            max_depth=None, max_features='auto', max_leaf_nodes=None,\n",
       "            min_impurity_decrease=0.0, min_impurity_split=None,\n",
       "            min_samples_leaf=1, min_samples_split=2,\n",
       "            min_weight_fraction_leaf=0.0, n_estimators=10, n_jobs=None,\n",
       "            oob_score=False, random_state=None, verbose=0,\n",
       "            warm_start=False),\n",
       "       fit_params=None, iid='warn', n_jobs=None,\n",
       "       param_grid={'n_estimators': [200, 500, 700], 'max_depth': [10, 15, 18, 20], 'min_samples_leaf': [3, 5, 7]},\n",
       "       pre_dispatch='2*n_jobs', refit=True, return_train_score='warn',\n",
       "       scoring=None, verbose=3)"
      ]
     },
     "execution_count": 28,
     "metadata": {},
     "output_type": "execute_result"
    }
   ],
   "source": [
    "gs.fit(train,y_train)"
   ]
  },
  {
   "cell_type": "code",
   "execution_count": 29,
   "metadata": {
    "scrolled": true
   },
   "outputs": [
    {
     "data": {
      "text/plain": [
       "{'max_depth': 18, 'min_samples_leaf': 3, 'n_estimators': 500}"
      ]
     },
     "execution_count": 29,
     "metadata": {},
     "output_type": "execute_result"
    }
   ],
   "source": [
    "gs.best_params_"
   ]
  },
  {
   "cell_type": "code",
   "execution_count": 30,
   "metadata": {
    "scrolled": true
   },
   "outputs": [
    {
     "data": {
      "text/plain": [
       "RandomForestClassifier(bootstrap=True, class_weight=None, criterion='gini',\n",
       "            max_depth=18, max_features='auto', max_leaf_nodes=None,\n",
       "            min_impurity_decrease=0.0, min_impurity_split=None,\n",
       "            min_samples_leaf=3, min_samples_split=2,\n",
       "            min_weight_fraction_leaf=0.0, n_estimators=500, n_jobs=None,\n",
       "            oob_score=False, random_state=None, verbose=0,\n",
       "            warm_start=False)"
      ]
     },
     "execution_count": 30,
     "metadata": {},
     "output_type": "execute_result"
    }
   ],
   "source": [
    "gs.best_estimator_"
   ]
  },
  {
   "cell_type": "code",
   "execution_count": 31,
   "metadata": {},
   "outputs": [],
   "source": [
    "rf1 = RandomForestClassifier(bootstrap=True, class_weight=None, criterion='gini',\n",
    "            max_depth=18, max_features='auto', max_leaf_nodes=None,\n",
    "            min_impurity_decrease=0.0, min_impurity_split=None,\n",
    "            min_samples_leaf=3, min_samples_split=2,\n",
    "            min_weight_fraction_leaf=0.0, n_estimators=200, n_jobs=None,\n",
    "            oob_score=True, random_state=101, verbose=0,\n",
    "            warm_start=False)"
   ]
  },
  {
   "cell_type": "code",
   "execution_count": null,
   "metadata": {},
   "outputs": [],
   "source": []
  },
  {
   "cell_type": "code",
   "execution_count": 32,
   "metadata": {
    "scrolled": true
   },
   "outputs": [
    {
     "data": {
      "text/plain": [
       "RandomForestClassifier(bootstrap=True, class_weight=None, criterion='gini',\n",
       "            max_depth=18, max_features='auto', max_leaf_nodes=None,\n",
       "            min_impurity_decrease=0.0, min_impurity_split=None,\n",
       "            min_samples_leaf=3, min_samples_split=2,\n",
       "            min_weight_fraction_leaf=0.0, n_estimators=200, n_jobs=None,\n",
       "            oob_score=True, random_state=101, verbose=0, warm_start=False)"
      ]
     },
     "execution_count": 32,
     "metadata": {},
     "output_type": "execute_result"
    }
   ],
   "source": [
    "rf1.fit(train,y_train)"
   ]
  },
  {
   "cell_type": "code",
   "execution_count": 33,
   "metadata": {
    "scrolled": true
   },
   "outputs": [
    {
     "data": {
      "text/plain": [
       "0.6510974987238387"
      ]
     },
     "execution_count": 33,
     "metadata": {},
     "output_type": "execute_result"
    }
   ],
   "source": [
    "rf1.oob_score_"
   ]
  },
  {
   "cell_type": "code",
   "execution_count": 34,
   "metadata": {},
   "outputs": [],
   "source": [
    "pred_rf1 = rf1.predict(test)"
   ]
  },
  {
   "cell_type": "code",
   "execution_count": 35,
   "metadata": {
    "scrolled": true
   },
   "outputs": [
    {
     "name": "stdout",
     "output_type": "stream",
     "text": [
      "0.6602040816326531\n"
     ]
    }
   ],
   "source": [
    "print(accuracy_score(y_test,pred_rf1))"
   ]
  },
  {
   "cell_type": "code",
   "execution_count": 36,
   "metadata": {
    "scrolled": true
   },
   "outputs": [
    {
     "data": {
      "text/plain": [
       "array([0.04544561, 0.08698744, 0.06084217, 0.06661011, 0.05480626,\n",
       "       0.0628811 , 0.06659388, 0.08465859, 0.06012223, 0.04804436,\n",
       "       0.10510437, 0.06282237, 0.07250678, 0.06036186, 0.06221289])"
      ]
     },
     "execution_count": 36,
     "metadata": {},
     "output_type": "execute_result"
    }
   ],
   "source": [
    "rf1.feature_importances_"
   ]
  },
  {
   "cell_type": "code",
   "execution_count": 65,
   "metadata": {
    "scrolled": true
   },
   "outputs": [
    {
     "data": {
      "text/plain": [
       "[(0.1051043658788977, 'alcohol'),\n",
       " (0.08698743637477381, 'volatile acidity'),\n",
       " (0.08465859448232203, 'density'),\n",
       " (0.07250677598508122, 'eng2'),\n",
       " (0.06661010905073897, 'residual sugar'),\n",
       " (0.06659388489892111, 'total sulfur dioxide'),\n",
       " (0.06288109519465297, 'free sulfur dioxide'),\n",
       " (0.06282236664633044, 'eng1'),\n",
       " (0.06221288536723693, 'eng4'),\n",
       " (0.060842174325342446, 'citric acid'),\n",
       " (0.06036185698627452, 'eng3'),\n",
       " (0.06012222926149238, 'pH'),\n",
       " (0.05480625829876283, 'chlorides'),\n",
       " (0.048044355216732615, 'sulphates'),\n",
       " (0.04544561203243984, 'fixed acidity')]"
      ]
     },
     "execution_count": 65,
     "metadata": {},
     "output_type": "execute_result"
    }
   ],
   "source": [
    "sorted(list(zip(rf1.feature_importances_,train.columns)),reverse=True)"
   ]
  },
  {
   "cell_type": "code",
   "execution_count": 24,
   "metadata": {
    "scrolled": true
   },
   "outputs": [
    {
     "data": {
      "text/html": [
       "<div>\n",
       "<style scoped>\n",
       "    .dataframe tbody tr th:only-of-type {\n",
       "        vertical-align: middle;\n",
       "    }\n",
       "\n",
       "    .dataframe tbody tr th {\n",
       "        vertical-align: top;\n",
       "    }\n",
       "\n",
       "    .dataframe thead th {\n",
       "        text-align: right;\n",
       "    }\n",
       "</style>\n",
       "<table border=\"1\" class=\"dataframe\">\n",
       "  <thead>\n",
       "    <tr style=\"text-align: right;\">\n",
       "      <th></th>\n",
       "      <th>fixed acidity</th>\n",
       "      <th>volatile acidity</th>\n",
       "      <th>citric acid</th>\n",
       "      <th>residual sugar</th>\n",
       "      <th>chlorides</th>\n",
       "      <th>free sulfur dioxide</th>\n",
       "      <th>total sulfur dioxide</th>\n",
       "      <th>density</th>\n",
       "      <th>pH</th>\n",
       "      <th>sulphates</th>\n",
       "      <th>alcohol</th>\n",
       "    </tr>\n",
       "  </thead>\n",
       "  <tbody>\n",
       "    <tr>\n",
       "      <th>fixed acidity</th>\n",
       "      <td>1.000000</td>\n",
       "      <td>-0.022697</td>\n",
       "      <td>0.289181</td>\n",
       "      <td>0.089021</td>\n",
       "      <td>0.023086</td>\n",
       "      <td>-0.049396</td>\n",
       "      <td>0.091070</td>\n",
       "      <td>0.265331</td>\n",
       "      <td>-0.425858</td>\n",
       "      <td>-0.017143</td>\n",
       "      <td>-0.120881</td>\n",
       "    </tr>\n",
       "    <tr>\n",
       "      <th>volatile acidity</th>\n",
       "      <td>-0.022697</td>\n",
       "      <td>1.000000</td>\n",
       "      <td>-0.149472</td>\n",
       "      <td>0.064286</td>\n",
       "      <td>0.070512</td>\n",
       "      <td>-0.097012</td>\n",
       "      <td>0.089261</td>\n",
       "      <td>0.027114</td>\n",
       "      <td>-0.031915</td>\n",
       "      <td>-0.035728</td>\n",
       "      <td>0.067718</td>\n",
       "    </tr>\n",
       "    <tr>\n",
       "      <th>citric acid</th>\n",
       "      <td>0.289181</td>\n",
       "      <td>-0.149472</td>\n",
       "      <td>1.000000</td>\n",
       "      <td>0.094212</td>\n",
       "      <td>0.114364</td>\n",
       "      <td>0.094077</td>\n",
       "      <td>0.121131</td>\n",
       "      <td>0.149503</td>\n",
       "      <td>-0.163748</td>\n",
       "      <td>0.062331</td>\n",
       "      <td>-0.075729</td>\n",
       "    </tr>\n",
       "    <tr>\n",
       "      <th>residual sugar</th>\n",
       "      <td>0.089021</td>\n",
       "      <td>0.064286</td>\n",
       "      <td>0.094212</td>\n",
       "      <td>1.000000</td>\n",
       "      <td>0.088685</td>\n",
       "      <td>0.299098</td>\n",
       "      <td>0.401439</td>\n",
       "      <td>0.838966</td>\n",
       "      <td>-0.194133</td>\n",
       "      <td>-0.026664</td>\n",
       "      <td>-0.450631</td>\n",
       "    </tr>\n",
       "    <tr>\n",
       "      <th>chlorides</th>\n",
       "      <td>0.023086</td>\n",
       "      <td>0.070512</td>\n",
       "      <td>0.114364</td>\n",
       "      <td>0.088685</td>\n",
       "      <td>1.000000</td>\n",
       "      <td>0.101392</td>\n",
       "      <td>0.198910</td>\n",
       "      <td>0.257211</td>\n",
       "      <td>-0.090439</td>\n",
       "      <td>0.016763</td>\n",
       "      <td>-0.360189</td>\n",
       "    </tr>\n",
       "    <tr>\n",
       "      <th>free sulfur dioxide</th>\n",
       "      <td>-0.049396</td>\n",
       "      <td>-0.097012</td>\n",
       "      <td>0.094077</td>\n",
       "      <td>0.299098</td>\n",
       "      <td>0.101392</td>\n",
       "      <td>1.000000</td>\n",
       "      <td>0.615501</td>\n",
       "      <td>0.294210</td>\n",
       "      <td>-0.000618</td>\n",
       "      <td>0.059217</td>\n",
       "      <td>-0.250104</td>\n",
       "    </tr>\n",
       "    <tr>\n",
       "      <th>total sulfur dioxide</th>\n",
       "      <td>0.091070</td>\n",
       "      <td>0.089261</td>\n",
       "      <td>0.121131</td>\n",
       "      <td>0.401439</td>\n",
       "      <td>0.198910</td>\n",
       "      <td>0.615501</td>\n",
       "      <td>1.000000</td>\n",
       "      <td>0.529881</td>\n",
       "      <td>0.002321</td>\n",
       "      <td>0.134562</td>\n",
       "      <td>-0.448892</td>\n",
       "    </tr>\n",
       "    <tr>\n",
       "      <th>density</th>\n",
       "      <td>0.265331</td>\n",
       "      <td>0.027114</td>\n",
       "      <td>0.149503</td>\n",
       "      <td>0.838966</td>\n",
       "      <td>0.257211</td>\n",
       "      <td>0.294210</td>\n",
       "      <td>0.529881</td>\n",
       "      <td>1.000000</td>\n",
       "      <td>-0.093591</td>\n",
       "      <td>0.074493</td>\n",
       "      <td>-0.780138</td>\n",
       "    </tr>\n",
       "    <tr>\n",
       "      <th>pH</th>\n",
       "      <td>-0.425858</td>\n",
       "      <td>-0.031915</td>\n",
       "      <td>-0.163748</td>\n",
       "      <td>-0.194133</td>\n",
       "      <td>-0.090439</td>\n",
       "      <td>-0.000618</td>\n",
       "      <td>0.002321</td>\n",
       "      <td>-0.093591</td>\n",
       "      <td>1.000000</td>\n",
       "      <td>0.155951</td>\n",
       "      <td>0.121432</td>\n",
       "    </tr>\n",
       "    <tr>\n",
       "      <th>sulphates</th>\n",
       "      <td>-0.017143</td>\n",
       "      <td>-0.035728</td>\n",
       "      <td>0.062331</td>\n",
       "      <td>-0.026664</td>\n",
       "      <td>0.016763</td>\n",
       "      <td>0.059217</td>\n",
       "      <td>0.134562</td>\n",
       "      <td>0.074493</td>\n",
       "      <td>0.155951</td>\n",
       "      <td>1.000000</td>\n",
       "      <td>-0.017433</td>\n",
       "    </tr>\n",
       "    <tr>\n",
       "      <th>alcohol</th>\n",
       "      <td>-0.120881</td>\n",
       "      <td>0.067718</td>\n",
       "      <td>-0.075729</td>\n",
       "      <td>-0.450631</td>\n",
       "      <td>-0.360189</td>\n",
       "      <td>-0.250104</td>\n",
       "      <td>-0.448892</td>\n",
       "      <td>-0.780138</td>\n",
       "      <td>0.121432</td>\n",
       "      <td>-0.017433</td>\n",
       "      <td>1.000000</td>\n",
       "    </tr>\n",
       "  </tbody>\n",
       "</table>\n",
       "</div>"
      ],
      "text/plain": [
       "                      fixed acidity  volatile acidity  citric acid  \\\n",
       "fixed acidity              1.000000         -0.022697     0.289181   \n",
       "volatile acidity          -0.022697          1.000000    -0.149472   \n",
       "citric acid                0.289181         -0.149472     1.000000   \n",
       "residual sugar             0.089021          0.064286     0.094212   \n",
       "chlorides                  0.023086          0.070512     0.114364   \n",
       "free sulfur dioxide       -0.049396         -0.097012     0.094077   \n",
       "total sulfur dioxide       0.091070          0.089261     0.121131   \n",
       "density                    0.265331          0.027114     0.149503   \n",
       "pH                        -0.425858         -0.031915    -0.163748   \n",
       "sulphates                 -0.017143         -0.035728     0.062331   \n",
       "alcohol                   -0.120881          0.067718    -0.075729   \n",
       "\n",
       "                      residual sugar  chlorides  free sulfur dioxide  \\\n",
       "fixed acidity               0.089021   0.023086            -0.049396   \n",
       "volatile acidity            0.064286   0.070512            -0.097012   \n",
       "citric acid                 0.094212   0.114364             0.094077   \n",
       "residual sugar              1.000000   0.088685             0.299098   \n",
       "chlorides                   0.088685   1.000000             0.101392   \n",
       "free sulfur dioxide         0.299098   0.101392             1.000000   \n",
       "total sulfur dioxide        0.401439   0.198910             0.615501   \n",
       "density                     0.838966   0.257211             0.294210   \n",
       "pH                         -0.194133  -0.090439            -0.000618   \n",
       "sulphates                  -0.026664   0.016763             0.059217   \n",
       "alcohol                    -0.450631  -0.360189            -0.250104   \n",
       "\n",
       "                      total sulfur dioxide   density        pH  sulphates  \\\n",
       "fixed acidity                     0.091070  0.265331 -0.425858  -0.017143   \n",
       "volatile acidity                  0.089261  0.027114 -0.031915  -0.035728   \n",
       "citric acid                       0.121131  0.149503 -0.163748   0.062331   \n",
       "residual sugar                    0.401439  0.838966 -0.194133  -0.026664   \n",
       "chlorides                         0.198910  0.257211 -0.090439   0.016763   \n",
       "free sulfur dioxide               0.615501  0.294210 -0.000618   0.059217   \n",
       "total sulfur dioxide              1.000000  0.529881  0.002321   0.134562   \n",
       "density                           0.529881  1.000000 -0.093591   0.074493   \n",
       "pH                                0.002321 -0.093591  1.000000   0.155951   \n",
       "sulphates                         0.134562  0.074493  0.155951   1.000000   \n",
       "alcohol                          -0.448892 -0.780138  0.121432  -0.017433   \n",
       "\n",
       "                       alcohol  \n",
       "fixed acidity        -0.120881  \n",
       "volatile acidity      0.067718  \n",
       "citric acid          -0.075729  \n",
       "residual sugar       -0.450631  \n",
       "chlorides            -0.360189  \n",
       "free sulfur dioxide  -0.250104  \n",
       "total sulfur dioxide -0.448892  \n",
       "density              -0.780138  \n",
       "pH                    0.121432  \n",
       "sulphates            -0.017433  \n",
       "alcohol               1.000000  "
      ]
     },
     "execution_count": 24,
     "metadata": {},
     "output_type": "execute_result"
    }
   ],
   "source": [
    "df.corr()"
   ]
  },
  {
   "cell_type": "code",
   "execution_count": 25,
   "metadata": {},
   "outputs": [],
   "source": [
    "from sklearn.feature_selection import RFE"
   ]
  },
  {
   "cell_type": "code",
   "execution_count": 26,
   "metadata": {},
   "outputs": [],
   "source": [
    "rfe =RFE(rf1,n_features_to_select=5)"
   ]
  },
  {
   "cell_type": "code",
   "execution_count": 27,
   "metadata": {},
   "outputs": [
    {
     "data": {
      "text/plain": [
       "RFE(estimator=RandomForestClassifier(bootstrap=True, class_weight=None, criterion='gini',\n",
       "            max_depth=18, max_features='auto', max_leaf_nodes=None,\n",
       "            min_impurity_decrease=0.0, min_impurity_split=None,\n",
       "            min_samples_leaf=3, min_samples_split=2,\n",
       "            min_weight_fraction_leaf=0.0, n_estimators=200, n_jobs=None,\n",
       "            oob_score=True, random_state=101, verbose=0, warm_start=False),\n",
       "  n_features_to_select=5, step=1, verbose=0)"
      ]
     },
     "execution_count": 27,
     "metadata": {},
     "output_type": "execute_result"
    }
   ],
   "source": [
    "rfe.fit(train,y_train)"
   ]
  },
  {
   "cell_type": "code",
   "execution_count": 30,
   "metadata": {
    "scrolled": true
   },
   "outputs": [
    {
     "data": {
      "text/plain": [
       "array([False,  True, False,  True, False, False,  True,  True, False,\n",
       "       False,  True])"
      ]
     },
     "execution_count": 30,
     "metadata": {},
     "output_type": "execute_result"
    }
   ],
   "source": [
    "rfe.get_support()"
   ]
  },
  {
   "cell_type": "code",
   "execution_count": 32,
   "metadata": {},
   "outputs": [
    {
     "data": {
      "text/plain": [
       "Index(['fixed acidity', 'volatile acidity', 'citric acid', 'residual sugar',\n",
       "       'chlorides', 'free sulfur dioxide', 'total sulfur dioxide', 'density',\n",
       "       'pH', 'sulphates', 'alcohol'],\n",
       "      dtype='object')"
      ]
     },
     "execution_count": 32,
     "metadata": {},
     "output_type": "execute_result"
    }
   ],
   "source": [
    "df.columns"
   ]
  }
 ],
 "metadata": {
  "kernelspec": {
   "display_name": "Python 3",
   "language": "python",
   "name": "python3"
  },
  "language_info": {
   "codemirror_mode": {
    "name": "ipython",
    "version": 3
   },
   "file_extension": ".py",
   "mimetype": "text/x-python",
   "name": "python",
   "nbconvert_exporter": "python",
   "pygments_lexer": "ipython3",
   "version": "3.8.3"
  }
 },
 "nbformat": 4,
 "nbformat_minor": 2
}
