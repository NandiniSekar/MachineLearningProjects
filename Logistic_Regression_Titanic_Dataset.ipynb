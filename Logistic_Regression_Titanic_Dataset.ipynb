{
 "cells": [
  {
   "cell_type": "code",
   "execution_count": 2,
   "metadata": {},
   "outputs": [],
   "source": [
    "import pandas as pd\n",
    "import numpy as np\n",
    "import matplotlib.pyplot as plt\n",
    "%matplotlib inline\n",
    "import seaborn as sns"
   ]
  },
  {
   "cell_type": "code",
   "execution_count": 3,
   "metadata": {},
   "outputs": [],
   "source": [
    "train = pd.read_csv(r'D:\\DS-Input-Files\\titanic_train.csv')"
   ]
  },
  {
   "cell_type": "code",
   "execution_count": 4,
   "metadata": {
    "scrolled": true
   },
   "outputs": [
    {
     "data": {
      "text/html": [
       "<div>\n",
       "<style scoped>\n",
       "    .dataframe tbody tr th:only-of-type {\n",
       "        vertical-align: middle;\n",
       "    }\n",
       "\n",
       "    .dataframe tbody tr th {\n",
       "        vertical-align: top;\n",
       "    }\n",
       "\n",
       "    .dataframe thead th {\n",
       "        text-align: right;\n",
       "    }\n",
       "</style>\n",
       "<table border=\"1\" class=\"dataframe\">\n",
       "  <thead>\n",
       "    <tr style=\"text-align: right;\">\n",
       "      <th></th>\n",
       "      <th>PassengerId</th>\n",
       "      <th>Survived</th>\n",
       "      <th>Pclass</th>\n",
       "      <th>Name</th>\n",
       "      <th>Sex</th>\n",
       "      <th>Age</th>\n",
       "      <th>SibSp</th>\n",
       "      <th>Parch</th>\n",
       "      <th>Ticket</th>\n",
       "      <th>Fare</th>\n",
       "      <th>Cabin</th>\n",
       "      <th>Embarked</th>\n",
       "    </tr>\n",
       "  </thead>\n",
       "  <tbody>\n",
       "    <tr>\n",
       "      <th>0</th>\n",
       "      <td>1</td>\n",
       "      <td>0</td>\n",
       "      <td>3</td>\n",
       "      <td>Braund, Mr. Owen Harris</td>\n",
       "      <td>male</td>\n",
       "      <td>22.0</td>\n",
       "      <td>1</td>\n",
       "      <td>0</td>\n",
       "      <td>A/5 21171</td>\n",
       "      <td>7.2500</td>\n",
       "      <td>NaN</td>\n",
       "      <td>S</td>\n",
       "    </tr>\n",
       "    <tr>\n",
       "      <th>1</th>\n",
       "      <td>2</td>\n",
       "      <td>1</td>\n",
       "      <td>1</td>\n",
       "      <td>Cumings, Mrs. John Bradley (Florence Briggs Th...</td>\n",
       "      <td>female</td>\n",
       "      <td>38.0</td>\n",
       "      <td>1</td>\n",
       "      <td>0</td>\n",
       "      <td>PC 17599</td>\n",
       "      <td>71.2833</td>\n",
       "      <td>C85</td>\n",
       "      <td>C</td>\n",
       "    </tr>\n",
       "    <tr>\n",
       "      <th>2</th>\n",
       "      <td>3</td>\n",
       "      <td>1</td>\n",
       "      <td>3</td>\n",
       "      <td>Heikkinen, Miss. Laina</td>\n",
       "      <td>female</td>\n",
       "      <td>26.0</td>\n",
       "      <td>0</td>\n",
       "      <td>0</td>\n",
       "      <td>STON/O2. 3101282</td>\n",
       "      <td>7.9250</td>\n",
       "      <td>NaN</td>\n",
       "      <td>S</td>\n",
       "    </tr>\n",
       "    <tr>\n",
       "      <th>3</th>\n",
       "      <td>4</td>\n",
       "      <td>1</td>\n",
       "      <td>1</td>\n",
       "      <td>Futrelle, Mrs. Jacques Heath (Lily May Peel)</td>\n",
       "      <td>female</td>\n",
       "      <td>35.0</td>\n",
       "      <td>1</td>\n",
       "      <td>0</td>\n",
       "      <td>113803</td>\n",
       "      <td>53.1000</td>\n",
       "      <td>C123</td>\n",
       "      <td>S</td>\n",
       "    </tr>\n",
       "    <tr>\n",
       "      <th>4</th>\n",
       "      <td>5</td>\n",
       "      <td>0</td>\n",
       "      <td>3</td>\n",
       "      <td>Allen, Mr. William Henry</td>\n",
       "      <td>male</td>\n",
       "      <td>35.0</td>\n",
       "      <td>0</td>\n",
       "      <td>0</td>\n",
       "      <td>373450</td>\n",
       "      <td>8.0500</td>\n",
       "      <td>NaN</td>\n",
       "      <td>S</td>\n",
       "    </tr>\n",
       "  </tbody>\n",
       "</table>\n",
       "</div>"
      ],
      "text/plain": [
       "   PassengerId  Survived  Pclass  \\\n",
       "0            1         0       3   \n",
       "1            2         1       1   \n",
       "2            3         1       3   \n",
       "3            4         1       1   \n",
       "4            5         0       3   \n",
       "\n",
       "                                                Name     Sex   Age  SibSp  \\\n",
       "0                            Braund, Mr. Owen Harris    male  22.0      1   \n",
       "1  Cumings, Mrs. John Bradley (Florence Briggs Th...  female  38.0      1   \n",
       "2                             Heikkinen, Miss. Laina  female  26.0      0   \n",
       "3       Futrelle, Mrs. Jacques Heath (Lily May Peel)  female  35.0      1   \n",
       "4                           Allen, Mr. William Henry    male  35.0      0   \n",
       "\n",
       "   Parch            Ticket     Fare Cabin Embarked  \n",
       "0      0         A/5 21171   7.2500   NaN        S  \n",
       "1      0          PC 17599  71.2833   C85        C  \n",
       "2      0  STON/O2. 3101282   7.9250   NaN        S  \n",
       "3      0            113803  53.1000  C123        S  \n",
       "4      0            373450   8.0500   NaN        S  "
      ]
     },
     "execution_count": 4,
     "metadata": {},
     "output_type": "execute_result"
    }
   ],
   "source": [
    "train.head()"
   ]
  },
  {
   "cell_type": "code",
   "execution_count": 5,
   "metadata": {
    "scrolled": true
   },
   "outputs": [
    {
     "name": "stdout",
     "output_type": "stream",
     "text": [
      "<class 'pandas.core.frame.DataFrame'>\n",
      "RangeIndex: 891 entries, 0 to 890\n",
      "Data columns (total 12 columns):\n",
      " #   Column       Non-Null Count  Dtype  \n",
      "---  ------       --------------  -----  \n",
      " 0   PassengerId  891 non-null    int64  \n",
      " 1   Survived     891 non-null    int64  \n",
      " 2   Pclass       891 non-null    int64  \n",
      " 3   Name         891 non-null    object \n",
      " 4   Sex          891 non-null    object \n",
      " 5   Age          714 non-null    float64\n",
      " 6   SibSp        891 non-null    int64  \n",
      " 7   Parch        891 non-null    int64  \n",
      " 8   Ticket       891 non-null    object \n",
      " 9   Fare         891 non-null    float64\n",
      " 10  Cabin        204 non-null    object \n",
      " 11  Embarked     889 non-null    object \n",
      "dtypes: float64(2), int64(5), object(5)\n",
      "memory usage: 83.7+ KB\n"
     ]
    }
   ],
   "source": [
    "train.info()"
   ]
  },
  {
   "cell_type": "code",
   "execution_count": 6,
   "metadata": {
    "scrolled": true
   },
   "outputs": [
    {
     "data": {
      "text/plain": [
       "<matplotlib.axes._subplots.AxesSubplot at 0x207222a3880>"
      ]
     },
     "execution_count": 6,
     "metadata": {},
     "output_type": "execute_result"
    },
    {
     "data": {
      "image/png": "[encoded data removed]",
      "text/plain": [
       "<Figure size 432x288 with 1 Axes>"
      ]
     },
     "metadata": {
      "needs_background": "light"
     },
     "output_type": "display_data"
    }
   ],
   "source": [
    "sns.countplot(x='Survived',hue='Sex',data=train)"
   ]
  },
  {
   "cell_type": "code",
   "execution_count": 7,
   "metadata": {
    "scrolled": true
   },
   "outputs": [
    {
     "data": {
      "text/plain": [
       "<matplotlib.axes._subplots.AxesSubplot at 0x207229fee50>"
      ]
     },
     "execution_count": 7,
     "metadata": {},
     "output_type": "execute_result"
    },
    {
     "data": {
      "image/png": "[encoded data removed]",
      "text/plain": [
       "<Figure size 432x288 with 1 Axes>"
      ]
     },
     "metadata": {
      "needs_background": "light"
     },
     "output_type": "display_data"
    }
   ],
   "source": [
    "sns.countplot(x='Pclass',hue='Survived',data=train)"
   ]
  },
  {
   "cell_type": "code",
   "execution_count": 8,
   "metadata": {
    "scrolled": true
   },
   "outputs": [
    {
     "data": {
      "text/plain": [
       "0    678\n",
       "1    118\n",
       "2     80\n",
       "5      5\n",
       "3      5\n",
       "4      4\n",
       "6      1\n",
       "Name: Parch, dtype: int64"
      ]
     },
     "execution_count": 8,
     "metadata": {},
     "output_type": "execute_result"
    }
   ],
   "source": [
    "train['Parch'].value_counts()"
   ]
  },
  {
   "cell_type": "code",
   "execution_count": 9,
   "metadata": {
    "scrolled": true
   },
   "outputs": [
    {
     "data": {
      "text/plain": [
       "PassengerId      0\n",
       "Survived         0\n",
       "Pclass           0\n",
       "Name             0\n",
       "Sex              0\n",
       "Age            177\n",
       "SibSp            0\n",
       "Parch            0\n",
       "Ticket           0\n",
       "Fare             0\n",
       "Cabin          687\n",
       "Embarked         2\n",
       "dtype: int64"
      ]
     },
     "execution_count": 9,
     "metadata": {},
     "output_type": "execute_result"
    }
   ],
   "source": [
    "train.isnull().sum()"
   ]
  },
  {
   "cell_type": "code",
   "execution_count": 10,
   "metadata": {
    "scrolled": true
   },
   "outputs": [
    {
     "data": {
      "text/plain": [
       "<matplotlib.axes._subplots.AxesSubplot at 0x20722a80c10>"
      ]
     },
     "execution_count": 10,
     "metadata": {},
     "output_type": "execute_result"
    },
    {
     "data": {
      "image/png": "[encoded data removed]",
      "text/plain": [
       "<Figure size 432x288 with 1 Axes>"
      ]
     },
     "metadata": {
      "needs_background": "light"
     },
     "output_type": "display_data"
    }
   ],
   "source": [
    "sns.boxplot(x='Pclass',y='Age',data=train)"
   ]
  },
  {
   "cell_type": "code",
   "execution_count": 11,
   "metadata": {
    "scrolled": true
   },
   "outputs": [
    {
     "data": {
      "text/plain": [
       "<matplotlib.axes._subplots.AxesSubplot at 0x20722b4abb0>"
      ]
     },
     "execution_count": 11,
     "metadata": {},
     "output_type": "execute_result"
    },
    {
     "data": {
      "image/png": "[encoded data removed]",
      "text/plain": [
       "<Figure size 432x288 with 1 Axes>"
      ]
     },
     "metadata": {
      "needs_background": "light"
     },
     "output_type": "display_data"
    }
   ],
   "source": [
    "train['Fare'].hist(bins=30)"
   ]
  },
  {
   "cell_type": "code",
   "execution_count": 12,
   "metadata": {},
   "outputs": [],
   "source": [
    "def imputeage(cols):\n",
    "    Age = cols[0]\n",
    "    pclass = cols[1]\n",
    "    if pd.isnull(Age):\n",
    "        if pclass==1:\n",
    "            return 37\n",
    "        elif pclass==2:\n",
    "            return 29\n",
    "        else:\n",
    "            return 27\n",
    "    else:\n",
    "        return Age"
   ]
  },
  {
   "cell_type": "code",
   "execution_count": 13,
   "metadata": {},
   "outputs": [],
   "source": [
    "train['Age']= train[['Age','Pclass']].apply(imputeage,axis=1)"
   ]
  },
  {
   "cell_type": "code",
   "execution_count": 14,
   "metadata": {
    "scrolled": true
   },
   "outputs": [
    {
     "name": "stdout",
     "output_type": "stream",
     "text": [
      "<class 'pandas.core.frame.DataFrame'>\n",
      "RangeIndex: 891 entries, 0 to 890\n",
      "Data columns (total 12 columns):\n",
      " #   Column       Non-Null Count  Dtype  \n",
      "---  ------       --------------  -----  \n",
      " 0   PassengerId  891 non-null    int64  \n",
      " 1   Survived     891 non-null    int64  \n",
      " 2   Pclass       891 non-null    int64  \n",
      " 3   Name         891 non-null    object \n",
      " 4   Sex          891 non-null    object \n",
      " 5   Age          891 non-null    float64\n",
      " 6   SibSp        891 non-null    int64  \n",
      " 7   Parch        891 non-null    int64  \n",
      " 8   Ticket       891 non-null    object \n",
      " 9   Fare         891 non-null    float64\n",
      " 10  Cabin        204 non-null    object \n",
      " 11  Embarked     889 non-null    object \n",
      "dtypes: float64(2), int64(5), object(5)\n",
      "memory usage: 83.7+ KB\n"
     ]
    }
   ],
   "source": [
    "train.info()"
   ]
  },
  {
   "cell_type": "code",
   "execution_count": 15,
   "metadata": {},
   "outputs": [],
   "source": [
    "train.drop('Cabin',axis=1,inplace=True)"
   ]
  },
  {
   "cell_type": "code",
   "execution_count": 16,
   "metadata": {},
   "outputs": [],
   "source": [
    "train.dropna(inplace=True)"
   ]
  },
  {
   "cell_type": "code",
   "execution_count": 17,
   "metadata": {
    "scrolled": false
   },
   "outputs": [
    {
     "name": "stdout",
     "output_type": "stream",
     "text": [
      "<class 'pandas.core.frame.DataFrame'>\n",
      "Int64Index: 889 entries, 0 to 890\n",
      "Data columns (total 11 columns):\n",
      " #   Column       Non-Null Count  Dtype  \n",
      "---  ------       --------------  -----  \n",
      " 0   PassengerId  889 non-null    int64  \n",
      " 1   Survived     889 non-null    int64  \n",
      " 2   Pclass       889 non-null    int64  \n",
      " 3   Name         889 non-null    object \n",
      " 4   Sex          889 non-null    object \n",
      " 5   Age          889 non-null    float64\n",
      " 6   SibSp        889 non-null    int64  \n",
      " 7   Parch        889 non-null    int64  \n",
      " 8   Ticket       889 non-null    object \n",
      " 9   Fare         889 non-null    float64\n",
      " 10  Embarked     889 non-null    object \n",
      "dtypes: float64(2), int64(5), object(4)\n",
      "memory usage: 83.3+ KB\n"
     ]
    }
   ],
   "source": [
    "train.info()"
   ]
  },
  {
   "cell_type": "code",
   "execution_count": 18,
   "metadata": {},
   "outputs": [
    {
     "data": {
      "text/plain": [
       "PassengerId    0\n",
       "Survived       0\n",
       "Pclass         0\n",
       "Name           0\n",
       "Sex            0\n",
       "Age            0\n",
       "SibSp          0\n",
       "Parch          0\n",
       "Ticket         0\n",
       "Fare           0\n",
       "Embarked       0\n",
       "dtype: int64"
      ]
     },
     "execution_count": 18,
     "metadata": {},
     "output_type": "execute_result"
    }
   ],
   "source": [
    "train.isnull().sum()"
   ]
  },
  {
   "cell_type": "code",
   "execution_count": 19,
   "metadata": {
    "scrolled": true
   },
   "outputs": [
    {
     "data": {
      "text/plain": [
       "0    606\n",
       "1    209\n",
       "2     28\n",
       "4     18\n",
       "3     16\n",
       "8      7\n",
       "5      5\n",
       "Name: SibSp, dtype: int64"
      ]
     },
     "execution_count": 19,
     "metadata": {},
     "output_type": "execute_result"
    }
   ],
   "source": [
    "train['SibSp'].value_counts()"
   ]
  },
  {
   "cell_type": "code",
   "execution_count": 20,
   "metadata": {},
   "outputs": [
    {
     "data": {
      "text/plain": [
       "0    676\n",
       "1    118\n",
       "2     80\n",
       "5      5\n",
       "3      5\n",
       "4      4\n",
       "6      1\n",
       "Name: Parch, dtype: int64"
      ]
     },
     "execution_count": 20,
     "metadata": {},
     "output_type": "execute_result"
    }
   ],
   "source": [
    "train['Parch'].value_counts()"
   ]
  },
  {
   "cell_type": "code",
   "execution_count": 21,
   "metadata": {},
   "outputs": [],
   "source": [
    "train['SibSp']=train['SibSp'].astype('category')\n",
    "train['Parch']=train['Parch'].astype('category')"
   ]
  },
  {
   "cell_type": "code",
   "execution_count": 22,
   "metadata": {
    "scrolled": true
   },
   "outputs": [],
   "source": [
    "encodedDF = pd.get_dummies(train[['Embarked','Sex','SibSp','Parch']])"
   ]
  },
  {
   "cell_type": "code",
   "execution_count": 23,
   "metadata": {},
   "outputs": [],
   "source": [
    "X = pd.concat([encodedDF,train.drop(['PassengerId','Name','Ticket','Survived','Embarked','Sex','SibSp','Parch'],axis=1)],axis=1)"
   ]
  },
  {
   "cell_type": "code",
   "execution_count": 25,
   "metadata": {},
   "outputs": [],
   "source": [
    "#X = train.drop(['PassengerId','Name','Ticket','Survived'],axis=1)\n",
    "y= train['Survived']"
   ]
  },
  {
   "cell_type": "code",
   "execution_count": 26,
   "metadata": {},
   "outputs": [],
   "source": [
    "from sklearn.model_selection import train_test_split"
   ]
  },
  {
   "cell_type": "code",
   "execution_count": 27,
   "metadata": {},
   "outputs": [],
   "source": [
    "X_train, X_test, y_train, y_test = train_test_split(\n",
    "     X, y, test_size=0.2, random_state=101)"
   ]
  },
  {
   "cell_type": "code",
   "execution_count": 28,
   "metadata": {},
   "outputs": [],
   "source": [
    "from sklearn.linear_model import LogisticRegression"
   ]
  },
  {
   "cell_type": "code",
   "execution_count": 29,
   "metadata": {},
   "outputs": [],
   "source": [
    "log = LogisticRegression()"
   ]
  },
  {
   "cell_type": "code",
   "execution_count": 30,
   "metadata": {
    "scrolled": true
   },
   "outputs": [
    {
     "name": "stderr",
     "output_type": "stream",
     "text": [
      "C:\\Users\\Nandini\\anaconda3\\lib\\site-packages\\sklearn\\linear_model\\_logistic.py:762: ConvergenceWarning: lbfgs failed to converge (status=1):\n",
      "STOP: TOTAL NO. of ITERATIONS REACHED LIMIT.\n",
      "\n",
      "Increase the number of iterations (max_iter) or scale the data as shown in:\n",
      "    https://scikit-learn.org/stable/modules/preprocessing.html\n",
      "Please also refer to the documentation for alternative solver options:\n",
      "    https://scikit-learn.org/stable/modules/linear_model.html#logistic-regression\n",
      "  n_iter_i = _check_optimize_result(\n"
     ]
    },
    {
     "data": {
      "text/plain": [
       "LogisticRegression()"
      ]
     },
     "execution_count": 30,
     "metadata": {},
     "output_type": "execute_result"
    }
   ],
   "source": [
    "log.fit(X_train,y_train)"
   ]
  },
  {
   "cell_type": "code",
   "execution_count": 31,
   "metadata": {
    "scrolled": true
   },
   "outputs": [
    {
     "data": {
      "text/plain": [
       "array([1.14906883])"
      ]
     },
     "execution_count": 31,
     "metadata": {},
     "output_type": "execute_result"
    }
   ],
   "source": [
    "log.intercept_"
   ]
  },
  {
   "cell_type": "code",
   "execution_count": 32,
   "metadata": {
    "scrolled": true
   },
   "outputs": [
    {
     "data": {
      "text/plain": [
       "array([[ 4.03128523e-01,  5.82028282e-01,  4.38524722e-03,\n",
       "         1.76847496e+00, -7.78932907e-01,  8.76300805e-01,\n",
       "         8.35283450e-01,  3.09332597e-01, -5.19030646e-01,\n",
       "        -6.25277961e-02, -1.81212224e-01, -2.68604134e-01,\n",
       "         4.52809248e-01,  7.88363580e-01,  1.34629130e-01,\n",
       "         1.85716051e-01, -3.38555611e-01, -2.33420346e-01,\n",
       "         0.00000000e+00, -1.04593951e+00, -3.18775602e-02,\n",
       "         9.61455837e-04]])"
      ]
     },
     "execution_count": 32,
     "metadata": {},
     "output_type": "execute_result"
    }
   ],
   "source": [
    "log.coef_"
   ]
  },
  {
   "cell_type": "code",
   "execution_count": 41,
   "metadata": {},
   "outputs": [],
   "source": [
    "predict = log.predict(X_test)"
   ]
  },
  {
   "cell_type": "code",
   "execution_count": 42,
   "metadata": {},
   "outputs": [],
   "source": [
    "from sklearn.metrics import accuracy_score, classification_report, confusion_matrix,roc_auc_score"
   ]
  },
  {
   "cell_type": "code",
   "execution_count": 43,
   "metadata": {
    "scrolled": false
   },
   "outputs": [
    {
     "name": "stdout",
     "output_type": "stream",
     "text": [
      "0.8089887640449438\n"
     ]
    }
   ],
   "source": [
    "print(accuracy_score(y_test,predict))"
   ]
  },
  {
   "cell_type": "code",
   "execution_count": 44,
   "metadata": {
    "scrolled": true
   },
   "outputs": [
    {
     "name": "stdout",
     "output_type": "stream",
     "text": [
      "[[98  9]\n",
      " [25 46]]\n"
     ]
    }
   ],
   "source": [
    "print(confusion_matrix(y_test,predict))"
   ]
  },
  {
   "cell_type": "code",
   "execution_count": 45,
   "metadata": {
    "scrolled": true
   },
   "outputs": [
    {
     "name": "stdout",
     "output_type": "stream",
     "text": [
      "              precision    recall  f1-score   support\n",
      "\n",
      "           0       0.80      0.92      0.85       107\n",
      "           1       0.84      0.65      0.73        71\n",
      "\n",
      "    accuracy                           0.81       178\n",
      "   macro avg       0.82      0.78      0.79       178\n",
      "weighted avg       0.81      0.81      0.80       178\n",
      "\n"
     ]
    }
   ],
   "source": [
    "print(classification_report(y_test,predict))"
   ]
  },
  {
   "cell_type": "code",
   "execution_count": 46,
   "metadata": {
    "scrolled": true
   },
   "outputs": [
    {
     "name": "stdout",
     "output_type": "stream",
     "text": [
      "0.7818875872054759\n"
     ]
    }
   ],
   "source": [
    "print(roc_auc_score(y_test,predict))"
   ]
  },
  {
   "cell_type": "code",
   "execution_count": 47,
   "metadata": {},
   "outputs": [],
   "source": [
    "pred_prob = log.predict_proba(X_test)"
   ]
  },
  {
   "cell_type": "code",
   "execution_count": 48,
   "metadata": {
    "collapsed": true
   },
   "outputs": [
    {
     "data": {
      "text/plain": [
       "array([0.90780651, 0.84680867, 0.25022817, 0.0811981 , 0.84583956,\n",
       "       0.96067033, 0.90383342, 0.79118377, 0.9270452 , 0.30915886,\n",
       "       0.22875894, 0.04544595, 0.90781892, 0.27541836, 0.90768976,\n",
       "       0.88737331, 0.09798733, 0.12823144, 0.42009563, 0.90781892,\n",
       "       0.90775721, 0.91025085, 0.61626036, 0.68795111, 0.95485527,\n",
       "       0.54809248, 0.40914021, 0.2728479 , 0.92672632, 0.72786675,\n",
       "       0.84630308, 0.66957177, 0.97566247, 0.90236395, 0.89953259,\n",
       "       0.79629929, 0.22605029, 0.94079335, 0.81691302, 0.87757103,\n",
       "       0.42974694, 0.87399499, 0.89052752, 0.09058474, 0.40428165,\n",
       "       0.88425766, 0.41227075, 0.16204705, 0.90656873, 0.75782838,\n",
       "       0.552148  , 0.21986747, 0.81579358, 0.8871818 , 0.90788695,\n",
       "       0.93326397, 0.56063558, 0.92030729, 0.88726052, 0.07417699,\n",
       "       0.30915886, 0.08396125, 0.10310638, 0.90245339, 0.85881475,\n",
       "       0.95348397, 0.89364472, 0.60652982, 0.94593421, 0.85111248,\n",
       "       0.67562178, 0.86866288, 0.39678364, 0.10575084, 0.89474325,\n",
       "       0.30206061, 0.92496345, 0.86866288, 0.90517062, 0.73376961,\n",
       "       0.70803256, 0.61185279, 0.57541622, 0.88737331, 0.65787386,\n",
       "       0.35999696, 0.93286361, 0.13058257, 0.89506612, 0.06093322,\n",
       "       0.45878812, 0.51373392, 0.92031611, 0.92265122, 0.64886239,\n",
       "       0.08851213, 0.19995364, 0.54406352, 0.86858974, 0.14426944,\n",
       "       0.90383342, 0.11634341, 0.84680867, 0.77206282, 0.41392869,\n",
       "       0.90782864, 0.05188676, 0.68627586, 0.75062062, 0.61955181,\n",
       "       0.94383425, 0.58268016, 0.09672048, 0.25164472, 0.90781892,\n",
       "       0.1112986 , 0.88079743, 0.86262876, 0.24020114, 0.15154667,\n",
       "       0.57002746, 0.87737217, 0.90775721, 0.86353438, 0.89051346,\n",
       "       0.66931529, 0.2183756 , 0.39486085, 0.10914427, 0.39333805,\n",
       "       0.7915806 , 0.57771441, 0.07805833, 0.4362336 , 0.93522047,\n",
       "       0.91628273, 0.92287537, 0.84691985, 0.42407985, 0.87381223,\n",
       "       0.9333146 , 0.8873545 , 0.77371971, 0.87919407, 0.61798688,\n",
       "       0.38365078, 0.8904658 , 0.70543001, 0.68220166, 0.18245139,\n",
       "       0.90782864, 0.25661522, 0.38130851, 0.2127277 , 0.77046473,\n",
       "       0.74388306, 0.55001921, 0.93136484, 0.08720097, 0.67000829,\n",
       "       0.84690842, 0.90781892, 0.92251455, 0.54425235, 0.91032627,\n",
       "       0.66929631, 0.78627253, 0.93712678, 0.75131995, 0.7548628 ,\n",
       "       0.30203612, 0.61905388, 0.13713377, 0.54357737, 0.86626806,\n",
       "       0.91045993, 0.67945577, 0.75835637])"
      ]
     },
     "execution_count": 48,
     "metadata": {},
     "output_type": "execute_result"
    }
   ],
   "source": [
    "pred_prob[::,0]"
   ]
  },
  {
   "cell_type": "code",
   "execution_count": 49,
   "metadata": {
    "scrolled": true
   },
   "outputs": [
    {
     "data": {
      "text/plain": [
       "array([0, 0, 1, 1, 0, 0, 0, 0, 0, 1, 1, 1, 0, 1, 0, 0, 1, 1, 1, 0, 0, 0,\n",
       "       0, 0, 0, 0, 1, 1, 0, 0, 0, 0, 0, 0, 0, 0, 1, 0, 0, 0, 1, 0, 0, 1,\n",
       "       1, 0, 1, 1, 0, 0, 0, 1, 0, 0, 0, 0, 0, 0, 0, 1, 1, 1, 1, 0, 0, 0,\n",
       "       0, 0, 0, 0, 0, 0, 1, 1, 0, 1, 0, 0, 0, 0, 0, 0, 0, 0, 0, 1, 0, 1,\n",
       "       0, 1, 1, 0, 0, 0, 0, 1, 1, 0, 0, 1, 0, 1, 0, 0, 1, 0, 1, 0, 0, 0,\n",
       "       0, 0, 1, 1, 0, 1, 0, 0, 1, 1, 0, 0, 0, 0, 0, 0, 1, 1, 1, 1, 0, 0,\n",
       "       1, 1, 0, 0, 0, 0, 1, 0, 0, 0, 0, 0, 0, 1, 0, 0, 0, 1, 0, 1, 1, 1,\n",
       "       0, 0, 0, 0, 1, 0, 0, 0, 0, 0, 0, 0, 0, 0, 0, 0, 1, 0, 1, 0, 0, 0,\n",
       "       0, 0], dtype=int64)"
      ]
     },
     "execution_count": 49,
     "metadata": {},
     "output_type": "execute_result"
    }
   ],
   "source": [
    "predict"
   ]
  },
  {
   "cell_type": "code",
   "execution_count": 50,
   "metadata": {
    "collapsed": true
   },
   "outputs": [
    {
     "data": {
      "text/plain": [
       "array([[0.90780651, 0.09219349],\n",
       "       [0.84680867, 0.15319133],\n",
       "       [0.25022817, 0.74977183],\n",
       "       [0.0811981 , 0.9188019 ],\n",
       "       [0.84583956, 0.15416044],\n",
       "       [0.96067033, 0.03932967],\n",
       "       [0.90383342, 0.09616658],\n",
       "       [0.79118377, 0.20881623],\n",
       "       [0.9270452 , 0.0729548 ],\n",
       "       [0.30915886, 0.69084114],\n",
       "       [0.22875894, 0.77124106],\n",
       "       [0.04544595, 0.95455405],\n",
       "       [0.90781892, 0.09218108],\n",
       "       [0.27541836, 0.72458164],\n",
       "       [0.90768976, 0.09231024],\n",
       "       [0.88737331, 0.11262669],\n",
       "       [0.09798733, 0.90201267],\n",
       "       [0.12823144, 0.87176856],\n",
       "       [0.42009563, 0.57990437],\n",
       "       [0.90781892, 0.09218108],\n",
       "       [0.90775721, 0.09224279],\n",
       "       [0.91025085, 0.08974915],\n",
       "       [0.61626036, 0.38373964],\n",
       "       [0.68795111, 0.31204889],\n",
       "       [0.95485527, 0.04514473],\n",
       "       [0.54809248, 0.45190752],\n",
       "       [0.40914021, 0.59085979],\n",
       "       [0.2728479 , 0.7271521 ],\n",
       "       [0.92672632, 0.07327368],\n",
       "       [0.72786675, 0.27213325],\n",
       "       [0.84630308, 0.15369692],\n",
       "       [0.66957177, 0.33042823],\n",
       "       [0.97566247, 0.02433753],\n",
       "       [0.90236395, 0.09763605],\n",
       "       [0.89953259, 0.10046741],\n",
       "       [0.79629929, 0.20370071],\n",
       "       [0.22605029, 0.77394971],\n",
       "       [0.94079335, 0.05920665],\n",
       "       [0.81691302, 0.18308698],\n",
       "       [0.87757103, 0.12242897],\n",
       "       [0.42974694, 0.57025306],\n",
       "       [0.87399499, 0.12600501],\n",
       "       [0.89052752, 0.10947248],\n",
       "       [0.09058474, 0.90941526],\n",
       "       [0.40428165, 0.59571835],\n",
       "       [0.88425766, 0.11574234],\n",
       "       [0.41227075, 0.58772925],\n",
       "       [0.16204705, 0.83795295],\n",
       "       [0.90656873, 0.09343127],\n",
       "       [0.75782838, 0.24217162],\n",
       "       [0.552148  , 0.447852  ],\n",
       "       [0.21986747, 0.78013253],\n",
       "       [0.81579358, 0.18420642],\n",
       "       [0.8871818 , 0.1128182 ],\n",
       "       [0.90788695, 0.09211305],\n",
       "       [0.93326397, 0.06673603],\n",
       "       [0.56063558, 0.43936442],\n",
       "       [0.92030729, 0.07969271],\n",
       "       [0.88726052, 0.11273948],\n",
       "       [0.07417699, 0.92582301],\n",
       "       [0.30915886, 0.69084114],\n",
       "       [0.08396125, 0.91603875],\n",
       "       [0.10310638, 0.89689362],\n",
       "       [0.90245339, 0.09754661],\n",
       "       [0.85881475, 0.14118525],\n",
       "       [0.95348397, 0.04651603],\n",
       "       [0.89364472, 0.10635528],\n",
       "       [0.60652982, 0.39347018],\n",
       "       [0.94593421, 0.05406579],\n",
       "       [0.85111248, 0.14888752],\n",
       "       [0.67562178, 0.32437822],\n",
       "       [0.86866288, 0.13133712],\n",
       "       [0.39678364, 0.60321636],\n",
       "       [0.10575084, 0.89424916],\n",
       "       [0.89474325, 0.10525675],\n",
       "       [0.30206061, 0.69793939],\n",
       "       [0.92496345, 0.07503655],\n",
       "       [0.86866288, 0.13133712],\n",
       "       [0.90517062, 0.09482938],\n",
       "       [0.73376961, 0.26623039],\n",
       "       [0.70803256, 0.29196744],\n",
       "       [0.61185279, 0.38814721],\n",
       "       [0.57541622, 0.42458378],\n",
       "       [0.88737331, 0.11262669],\n",
       "       [0.65787386, 0.34212614],\n",
       "       [0.35999696, 0.64000304],\n",
       "       [0.93286361, 0.06713639],\n",
       "       [0.13058257, 0.86941743],\n",
       "       [0.89506612, 0.10493388],\n",
       "       [0.06093322, 0.93906678],\n",
       "       [0.45878812, 0.54121188],\n",
       "       [0.51373392, 0.48626608],\n",
       "       [0.92031611, 0.07968389],\n",
       "       [0.92265122, 0.07734878],\n",
       "       [0.64886239, 0.35113761],\n",
       "       [0.08851213, 0.91148787],\n",
       "       [0.19995364, 0.80004636],\n",
       "       [0.54406352, 0.45593648],\n",
       "       [0.86858974, 0.13141026],\n",
       "       [0.14426944, 0.85573056],\n",
       "       [0.90383342, 0.09616658],\n",
       "       [0.11634341, 0.88365659],\n",
       "       [0.84680867, 0.15319133],\n",
       "       [0.77206282, 0.22793718],\n",
       "       [0.41392869, 0.58607131],\n",
       "       [0.90782864, 0.09217136],\n",
       "       [0.05188676, 0.94811324],\n",
       "       [0.68627586, 0.31372414],\n",
       "       [0.75062062, 0.24937938],\n",
       "       [0.61955181, 0.38044819],\n",
       "       [0.94383425, 0.05616575],\n",
       "       [0.58268016, 0.41731984],\n",
       "       [0.09672048, 0.90327952],\n",
       "       [0.25164472, 0.74835528],\n",
       "       [0.90781892, 0.09218108],\n",
       "       [0.1112986 , 0.8887014 ],\n",
       "       [0.88079743, 0.11920257],\n",
       "       [0.86262876, 0.13737124],\n",
       "       [0.24020114, 0.75979886],\n",
       "       [0.15154667, 0.84845333],\n",
       "       [0.57002746, 0.42997254],\n",
       "       [0.87737217, 0.12262783],\n",
       "       [0.90775721, 0.09224279],\n",
       "       [0.86353438, 0.13646562],\n",
       "       [0.89051346, 0.10948654],\n",
       "       [0.66931529, 0.33068471],\n",
       "       [0.2183756 , 0.7816244 ],\n",
       "       [0.39486085, 0.60513915],\n",
       "       [0.10914427, 0.89085573],\n",
       "       [0.39333805, 0.60666195],\n",
       "       [0.7915806 , 0.2084194 ],\n",
       "       [0.57771441, 0.42228559],\n",
       "       [0.07805833, 0.92194167],\n",
       "       [0.4362336 , 0.5637664 ],\n",
       "       [0.93522047, 0.06477953],\n",
       "       [0.91628273, 0.08371727],\n",
       "       [0.92287537, 0.07712463],\n",
       "       [0.84691985, 0.15308015],\n",
       "       [0.42407985, 0.57592015],\n",
       "       [0.87381223, 0.12618777],\n",
       "       [0.9333146 , 0.0666854 ],\n",
       "       [0.8873545 , 0.1126455 ],\n",
       "       [0.77371971, 0.22628029],\n",
       "       [0.87919407, 0.12080593],\n",
       "       [0.61798688, 0.38201312],\n",
       "       [0.38365078, 0.61634922],\n",
       "       [0.8904658 , 0.1095342 ],\n",
       "       [0.70543001, 0.29456999],\n",
       "       [0.68220166, 0.31779834],\n",
       "       [0.18245139, 0.81754861],\n",
       "       [0.90782864, 0.09217136],\n",
       "       [0.25661522, 0.74338478],\n",
       "       [0.38130851, 0.61869149],\n",
       "       [0.2127277 , 0.7872723 ],\n",
       "       [0.77046473, 0.22953527],\n",
       "       [0.74388306, 0.25611694],\n",
       "       [0.55001921, 0.44998079],\n",
       "       [0.93136484, 0.06863516],\n",
       "       [0.08720097, 0.91279903],\n",
       "       [0.67000829, 0.32999171],\n",
       "       [0.84690842, 0.15309158],\n",
       "       [0.90781892, 0.09218108],\n",
       "       [0.92251455, 0.07748545],\n",
       "       [0.54425235, 0.45574765],\n",
       "       [0.91032627, 0.08967373],\n",
       "       [0.66929631, 0.33070369],\n",
       "       [0.78627253, 0.21372747],\n",
       "       [0.93712678, 0.06287322],\n",
       "       [0.75131995, 0.24868005],\n",
       "       [0.7548628 , 0.2451372 ],\n",
       "       [0.30203612, 0.69796388],\n",
       "       [0.61905388, 0.38094612],\n",
       "       [0.13713377, 0.86286623],\n",
       "       [0.54357737, 0.45642263],\n",
       "       [0.86626806, 0.13373194],\n",
       "       [0.91045993, 0.08954007],\n",
       "       [0.67945577, 0.32054423],\n",
       "       [0.75835637, 0.24164363]])"
      ]
     },
     "execution_count": 50,
     "metadata": {},
     "output_type": "execute_result"
    }
   ],
   "source": [
    "pred_prob"
   ]
  },
  {
   "cell_type": "code",
   "execution_count": 51,
   "metadata": {
    "scrolled": true
   },
   "outputs": [],
   "source": [
    "pred_DB = np.where(pred_prob[:,0]>=0.5,0,1)"
   ]
  }
 ],
 "metadata": {
  "kernelspec": {
   "display_name": "Python 3",
   "language": "python",
   "name": "python3"
  },
  "language_info": {
   "codemirror_mode": {
    "name": "ipython",
    "version": 3
   },
   "file_extension": ".py",
   "mimetype": "text/x-python",
   "name": "python",
   "nbconvert_exporter": "python",
   "pygments_lexer": "ipython3",
   "version": "3.8.3"
  }
 },
 "nbformat": 4,
 "nbformat_minor": 2
}
